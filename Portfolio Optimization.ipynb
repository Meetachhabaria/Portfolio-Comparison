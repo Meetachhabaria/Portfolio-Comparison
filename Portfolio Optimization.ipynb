{
  "nbformat": 4,
  "nbformat_minor": 0,
  "metadata": {
    "colab": {
      "name": "Meeta Chhabaria final project 3.ipynb",
      "provenance": []
    },
    "kernelspec": {
      "name": "python3",
      "display_name": "Python 3"
    },
    "language_info": {
      "name": "python"
    }
  },
  "cells": [
    {
      "cell_type": "markdown",
      "source": [
        "# **Project 3: Should you invest in Ray Dalio’s all weather portfolio?**"
      ],
      "metadata": {
        "id": "wKOo6U_zRyNh"
      }
    },
    {
      "cell_type": "markdown",
      "source": [
        "## **Introduction**\n",
        "\n",
        "You currently hold a portfolio that is 100% equity index funds. However, after reading a blog, you are considering to invest in Ray Dalio’s all weather portfolio.\n",
        "\n",
        "Here, we investigate three portfolios to make a decision about the portfolio that you should invest in:\n",
        "\n",
        "> 1) Current portfolio of 100% equity index funds: SPY (S&P 500 ETF)\n",
        "\n",
        "> 2) A balanced portfolio of 60% equity and 40% bonds: SPY and TLT (long-term U.S. government bond ETF)\n",
        "\n",
        "> 3) Ray Dalio’s all weather portfolio: SPY, TLT, IEF (intermediate-term U.S. government bond ETF), and GLD (gold ETF)\n"
      ],
      "metadata": {
        "id": "O_RdmnL1R7T1"
      }
    },
    {
      "cell_type": "markdown",
      "source": [
        "The portfolios are compared on various factors like Sharpe ratio, rolling returns, maximum drawdowns, rebalancing and leverage. \n"
      ],
      "metadata": {
        "id": "rVyefq06T0ym"
      }
    },
    {
      "cell_type": "markdown",
      "source": [
        "Appropriate modules and packages are loaded at this stage."
      ],
      "metadata": {
        "id": "YPTUaB3-UP_7"
      }
    },
    {
      "cell_type": "code",
      "execution_count": 1,
      "metadata": {
        "id": "Cbl1pZTXp5_c"
      },
      "outputs": [],
      "source": [
        "\n",
        "import numpy as np\n",
        "import pandas as pd\n",
        "import pandas_datareader as web\n",
        "import plotly.express as px\n",
        "import pandas_datareader as pdr\n",
        "import datetime\n",
        "import pandas_datareader.data as web\n",
        "import plotly.graph_objects as go\n",
        "import matplotlib.pyplot as plt\n",
        "from math import sqrt"
      ]
    },
    {
      "cell_type": "code",
      "source": [
        "# The yfinance package provides \"a reliable, threaded, and Pythonic way to download historical market data from Yahoo! finance.\n",
        "# To avoid repeated calls to Yahoo! Finance's advanced programming interface (API), we will use the requests-cache package.\n",
        "!pip install yfinance\n",
        "!pip install requests-cache"
      ],
      "metadata": {
        "colab": {
          "base_uri": "https://localhost:8080/",
          "height": 0
        },
        "id": "9YrXKMa3qBPu",
        "outputId": "3ba066cf-588d-48c0-fe0d-d375c36b6dff"
      },
      "execution_count": 2,
      "outputs": [
        {
          "output_type": "stream",
          "name": "stdout",
          "text": [
            "Requirement already satisfied: yfinance in /usr/local/lib/python3.7/dist-packages (0.1.67)\n",
            "Requirement already satisfied: requests>=2.20 in /usr/local/lib/python3.7/dist-packages (from yfinance) (2.23.0)\n",
            "Requirement already satisfied: multitasking>=0.0.7 in /usr/local/lib/python3.7/dist-packages (from yfinance) (0.0.10)\n",
            "Requirement already satisfied: numpy>=1.15 in /usr/local/lib/python3.7/dist-packages (from yfinance) (1.19.5)\n",
            "Requirement already satisfied: pandas>=0.24 in /usr/local/lib/python3.7/dist-packages (from yfinance) (1.1.5)\n",
            "Requirement already satisfied: lxml>=4.5.1 in /usr/local/lib/python3.7/dist-packages (from yfinance) (4.7.1)\n",
            "Requirement already satisfied: pytz>=2017.2 in /usr/local/lib/python3.7/dist-packages (from pandas>=0.24->yfinance) (2018.9)\n",
            "Requirement already satisfied: python-dateutil>=2.7.3 in /usr/local/lib/python3.7/dist-packages (from pandas>=0.24->yfinance) (2.8.2)\n",
            "Requirement already satisfied: six>=1.5 in /usr/local/lib/python3.7/dist-packages (from python-dateutil>=2.7.3->pandas>=0.24->yfinance) (1.15.0)\n",
            "Requirement already satisfied: chardet<4,>=3.0.2 in /usr/local/lib/python3.7/dist-packages (from requests>=2.20->yfinance) (3.0.4)\n",
            "Requirement already satisfied: idna<3,>=2.5 in /usr/local/lib/python3.7/dist-packages (from requests>=2.20->yfinance) (2.10)\n",
            "Requirement already satisfied: certifi>=2017.4.17 in /usr/local/lib/python3.7/dist-packages (from requests>=2.20->yfinance) (2021.10.8)\n",
            "Requirement already satisfied: urllib3!=1.25.0,!=1.25.1,<1.26,>=1.21.1 in /usr/local/lib/python3.7/dist-packages (from requests>=2.20->yfinance) (1.25.11)\n",
            "Requirement already satisfied: requests-cache in /usr/local/lib/python3.7/dist-packages (0.8.1)\n",
            "Requirement already satisfied: url-normalize<2.0,>=1.4 in /usr/local/lib/python3.7/dist-packages (from requests-cache) (1.4.3)\n",
            "Requirement already satisfied: urllib3<2.0.0,>=1.25.5 in /usr/local/lib/python3.7/dist-packages (from requests-cache) (1.25.11)\n",
            "Requirement already satisfied: attrs<22.0,>=21.2 in /usr/local/lib/python3.7/dist-packages (from requests-cache) (21.2.0)\n",
            "Requirement already satisfied: appdirs<2.0.0,>=1.4.4 in /usr/local/lib/python3.7/dist-packages (from requests-cache) (1.4.4)\n",
            "Requirement already satisfied: requests<3.0,>=2.22 in /usr/local/lib/python3.7/dist-packages (from requests-cache) (2.23.0)\n",
            "Requirement already satisfied: cattrs<2.0,>=1.8 in /usr/local/lib/python3.7/dist-packages (from requests-cache) (1.9.0)\n",
            "Requirement already satisfied: typing_extensions in /usr/local/lib/python3.7/dist-packages (from cattrs<2.0,>=1.8->requests-cache) (3.10.0.2)\n",
            "Requirement already satisfied: idna<3,>=2.5 in /usr/local/lib/python3.7/dist-packages (from requests<3.0,>=2.22->requests-cache) (2.10)\n",
            "Requirement already satisfied: chardet<4,>=3.0.2 in /usr/local/lib/python3.7/dist-packages (from requests<3.0,>=2.22->requests-cache) (3.0.4)\n",
            "Requirement already satisfied: certifi>=2017.4.17 in /usr/local/lib/python3.7/dist-packages (from requests<3.0,>=2.22->requests-cache) (2021.10.8)\n",
            "Requirement already satisfied: six in /usr/local/lib/python3.7/dist-packages (from url-normalize<2.0,>=1.4->requests-cache) (1.15.0)\n"
          ]
        }
      ]
    },
    {
      "cell_type": "code",
      "source": [
        "plt.rcParams['figure.dpi'] = 150\n",
        "np.set_printoptions(precision=4, suppress=True)\n",
        "pd.options.display.float_format = '{:.4f}'.format"
      ],
      "metadata": {
        "id": "tXiyEGASqFWg"
      },
      "execution_count": 3,
      "outputs": []
    },
    {
      "cell_type": "code",
      "source": [
        "# We can download data with yahoo finance.\n",
        "import yfinance as yf\n",
        "import requests_cache\n",
        "session = requests_cache.CachedSession()\n",
        "from pandas_datareader import data"
      ],
      "metadata": {
        "id": "r629ruVMqITa"
      },
      "execution_count": 4,
      "outputs": []
    },
    {
      "cell_type": "markdown",
      "source": [
        "We download the four ETF's data from yahoo finance. "
      ],
      "metadata": {
        "id": "6SG0Uf--qTSm"
      }
    },
    {
      "cell_type": "code",
      "source": [
        "full_portfolio = yf.download(tickers='SPY TLT IEF GLD', session=session)"
      ],
      "metadata": {
        "colab": {
          "base_uri": "https://localhost:8080/",
          "height": 0
        },
        "id": "nC1BZZCEqSW4",
        "outputId": "15caf31d-628e-4000-c83a-9c341d8df7cc"
      },
      "execution_count": 5,
      "outputs": [
        {
          "output_type": "stream",
          "name": "stdout",
          "text": [
            "[*********************100%***********************]  4 of 4 completed\n"
          ]
        }
      ]
    },
    {
      "cell_type": "code",
      "source": [
        "full_portfolio"
      ],
      "metadata": {
        "colab": {
          "base_uri": "https://localhost:8080/",
          "height": 680
        },
        "id": "iSFxVRWowITY",
        "outputId": "709b77e8-33ff-4924-d9c1-551a0abb7663"
      },
      "execution_count": 6,
      "outputs": [
        {
          "output_type": "execute_result",
          "data": {
            "text/html": [
              "<div>\n",
              "<style scoped>\n",
              "    .dataframe tbody tr th:only-of-type {\n",
              "        vertical-align: middle;\n",
              "    }\n",
              "\n",
              "    .dataframe tbody tr th {\n",
              "        vertical-align: top;\n",
              "    }\n",
              "\n",
              "    .dataframe thead tr th {\n",
              "        text-align: left;\n",
              "    }\n",
              "\n",
              "    .dataframe thead tr:last-of-type th {\n",
              "        text-align: right;\n",
              "    }\n",
              "</style>\n",
              "<table border=\"1\" class=\"dataframe\">\n",
              "  <thead>\n",
              "    <tr>\n",
              "      <th></th>\n",
              "      <th colspan=\"4\" halign=\"left\">Adj Close</th>\n",
              "      <th colspan=\"4\" halign=\"left\">Close</th>\n",
              "      <th colspan=\"4\" halign=\"left\">High</th>\n",
              "      <th colspan=\"4\" halign=\"left\">Low</th>\n",
              "      <th colspan=\"4\" halign=\"left\">Open</th>\n",
              "      <th colspan=\"4\" halign=\"left\">Volume</th>\n",
              "    </tr>\n",
              "    <tr>\n",
              "      <th></th>\n",
              "      <th>GLD</th>\n",
              "      <th>IEF</th>\n",
              "      <th>SPY</th>\n",
              "      <th>TLT</th>\n",
              "      <th>GLD</th>\n",
              "      <th>IEF</th>\n",
              "      <th>SPY</th>\n",
              "      <th>TLT</th>\n",
              "      <th>GLD</th>\n",
              "      <th>IEF</th>\n",
              "      <th>SPY</th>\n",
              "      <th>TLT</th>\n",
              "      <th>GLD</th>\n",
              "      <th>IEF</th>\n",
              "      <th>SPY</th>\n",
              "      <th>TLT</th>\n",
              "      <th>GLD</th>\n",
              "      <th>IEF</th>\n",
              "      <th>SPY</th>\n",
              "      <th>TLT</th>\n",
              "      <th>GLD</th>\n",
              "      <th>IEF</th>\n",
              "      <th>SPY</th>\n",
              "      <th>TLT</th>\n",
              "    </tr>\n",
              "    <tr>\n",
              "      <th>Date</th>\n",
              "      <th></th>\n",
              "      <th></th>\n",
              "      <th></th>\n",
              "      <th></th>\n",
              "      <th></th>\n",
              "      <th></th>\n",
              "      <th></th>\n",
              "      <th></th>\n",
              "      <th></th>\n",
              "      <th></th>\n",
              "      <th></th>\n",
              "      <th></th>\n",
              "      <th></th>\n",
              "      <th></th>\n",
              "      <th></th>\n",
              "      <th></th>\n",
              "      <th></th>\n",
              "      <th></th>\n",
              "      <th></th>\n",
              "      <th></th>\n",
              "      <th></th>\n",
              "      <th></th>\n",
              "      <th></th>\n",
              "      <th></th>\n",
              "    </tr>\n",
              "  </thead>\n",
              "  <tbody>\n",
              "    <tr>\n",
              "      <th>1993-01-29</th>\n",
              "      <td>nan</td>\n",
              "      <td>nan</td>\n",
              "      <td>25.7174</td>\n",
              "      <td>nan</td>\n",
              "      <td>nan</td>\n",
              "      <td>nan</td>\n",
              "      <td>43.9375</td>\n",
              "      <td>nan</td>\n",
              "      <td>nan</td>\n",
              "      <td>nan</td>\n",
              "      <td>43.9688</td>\n",
              "      <td>nan</td>\n",
              "      <td>nan</td>\n",
              "      <td>nan</td>\n",
              "      <td>43.7500</td>\n",
              "      <td>nan</td>\n",
              "      <td>nan</td>\n",
              "      <td>nan</td>\n",
              "      <td>43.9688</td>\n",
              "      <td>nan</td>\n",
              "      <td>nan</td>\n",
              "      <td>nan</td>\n",
              "      <td>1003200</td>\n",
              "      <td>nan</td>\n",
              "    </tr>\n",
              "    <tr>\n",
              "      <th>1993-02-01</th>\n",
              "      <td>nan</td>\n",
              "      <td>nan</td>\n",
              "      <td>25.9003</td>\n",
              "      <td>nan</td>\n",
              "      <td>nan</td>\n",
              "      <td>nan</td>\n",
              "      <td>44.2500</td>\n",
              "      <td>nan</td>\n",
              "      <td>nan</td>\n",
              "      <td>nan</td>\n",
              "      <td>44.2500</td>\n",
              "      <td>nan</td>\n",
              "      <td>nan</td>\n",
              "      <td>nan</td>\n",
              "      <td>43.9688</td>\n",
              "      <td>nan</td>\n",
              "      <td>nan</td>\n",
              "      <td>nan</td>\n",
              "      <td>43.9688</td>\n",
              "      <td>nan</td>\n",
              "      <td>nan</td>\n",
              "      <td>nan</td>\n",
              "      <td>480500</td>\n",
              "      <td>nan</td>\n",
              "    </tr>\n",
              "    <tr>\n",
              "      <th>1993-02-02</th>\n",
              "      <td>nan</td>\n",
              "      <td>nan</td>\n",
              "      <td>25.9552</td>\n",
              "      <td>nan</td>\n",
              "      <td>nan</td>\n",
              "      <td>nan</td>\n",
              "      <td>44.3438</td>\n",
              "      <td>nan</td>\n",
              "      <td>nan</td>\n",
              "      <td>nan</td>\n",
              "      <td>44.3750</td>\n",
              "      <td>nan</td>\n",
              "      <td>nan</td>\n",
              "      <td>nan</td>\n",
              "      <td>44.1250</td>\n",
              "      <td>nan</td>\n",
              "      <td>nan</td>\n",
              "      <td>nan</td>\n",
              "      <td>44.2188</td>\n",
              "      <td>nan</td>\n",
              "      <td>nan</td>\n",
              "      <td>nan</td>\n",
              "      <td>201300</td>\n",
              "      <td>nan</td>\n",
              "    </tr>\n",
              "    <tr>\n",
              "      <th>1993-02-03</th>\n",
              "      <td>nan</td>\n",
              "      <td>nan</td>\n",
              "      <td>26.2295</td>\n",
              "      <td>nan</td>\n",
              "      <td>nan</td>\n",
              "      <td>nan</td>\n",
              "      <td>44.8125</td>\n",
              "      <td>nan</td>\n",
              "      <td>nan</td>\n",
              "      <td>nan</td>\n",
              "      <td>44.8438</td>\n",
              "      <td>nan</td>\n",
              "      <td>nan</td>\n",
              "      <td>nan</td>\n",
              "      <td>44.3750</td>\n",
              "      <td>nan</td>\n",
              "      <td>nan</td>\n",
              "      <td>nan</td>\n",
              "      <td>44.4062</td>\n",
              "      <td>nan</td>\n",
              "      <td>nan</td>\n",
              "      <td>nan</td>\n",
              "      <td>529400</td>\n",
              "      <td>nan</td>\n",
              "    </tr>\n",
              "    <tr>\n",
              "      <th>1993-02-04</th>\n",
              "      <td>nan</td>\n",
              "      <td>nan</td>\n",
              "      <td>26.3393</td>\n",
              "      <td>nan</td>\n",
              "      <td>nan</td>\n",
              "      <td>nan</td>\n",
              "      <td>45.0000</td>\n",
              "      <td>nan</td>\n",
              "      <td>nan</td>\n",
              "      <td>nan</td>\n",
              "      <td>45.0938</td>\n",
              "      <td>nan</td>\n",
              "      <td>nan</td>\n",
              "      <td>nan</td>\n",
              "      <td>44.4688</td>\n",
              "      <td>nan</td>\n",
              "      <td>nan</td>\n",
              "      <td>nan</td>\n",
              "      <td>44.9688</td>\n",
              "      <td>nan</td>\n",
              "      <td>nan</td>\n",
              "      <td>nan</td>\n",
              "      <td>531500</td>\n",
              "      <td>nan</td>\n",
              "    </tr>\n",
              "    <tr>\n",
              "      <th>...</th>\n",
              "      <td>...</td>\n",
              "      <td>...</td>\n",
              "      <td>...</td>\n",
              "      <td>...</td>\n",
              "      <td>...</td>\n",
              "      <td>...</td>\n",
              "      <td>...</td>\n",
              "      <td>...</td>\n",
              "      <td>...</td>\n",
              "      <td>...</td>\n",
              "      <td>...</td>\n",
              "      <td>...</td>\n",
              "      <td>...</td>\n",
              "      <td>...</td>\n",
              "      <td>...</td>\n",
              "      <td>...</td>\n",
              "      <td>...</td>\n",
              "      <td>...</td>\n",
              "      <td>...</td>\n",
              "      <td>...</td>\n",
              "      <td>...</td>\n",
              "      <td>...</td>\n",
              "      <td>...</td>\n",
              "      <td>...</td>\n",
              "    </tr>\n",
              "    <tr>\n",
              "      <th>2021-12-10</th>\n",
              "      <td>166.5800</td>\n",
              "      <td>115.2342</td>\n",
              "      <td>470.7400</td>\n",
              "      <td>148.6924</td>\n",
              "      <td>166.5800</td>\n",
              "      <td>115.3400</td>\n",
              "      <td>470.7400</td>\n",
              "      <td>148.8600</td>\n",
              "      <td>166.9200</td>\n",
              "      <td>115.6600</td>\n",
              "      <td>470.9000</td>\n",
              "      <td>150.2400</td>\n",
              "      <td>166.1800</td>\n",
              "      <td>115.2800</td>\n",
              "      <td>466.5100</td>\n",
              "      <td>148.8100</td>\n",
              "      <td>166.7200</td>\n",
              "      <td>115.4400</td>\n",
              "      <td>469.2300</td>\n",
              "      <td>149.9200</td>\n",
              "      <td>6449500.0000</td>\n",
              "      <td>5051500.0000</td>\n",
              "      <td>76949400</td>\n",
              "      <td>14297300.0000</td>\n",
              "    </tr>\n",
              "    <tr>\n",
              "      <th>2021-12-13</th>\n",
              "      <td>167.0000</td>\n",
              "      <td>115.7837</td>\n",
              "      <td>466.5700</td>\n",
              "      <td>150.8900</td>\n",
              "      <td>167.0000</td>\n",
              "      <td>115.8900</td>\n",
              "      <td>466.5700</td>\n",
              "      <td>151.0600</td>\n",
              "      <td>167.2600</td>\n",
              "      <td>115.9900</td>\n",
              "      <td>470.5600</td>\n",
              "      <td>151.3100</td>\n",
              "      <td>166.6700</td>\n",
              "      <td>115.6100</td>\n",
              "      <td>466.2700</td>\n",
              "      <td>150.3100</td>\n",
              "      <td>166.9000</td>\n",
              "      <td>115.6300</td>\n",
              "      <td>470.1900</td>\n",
              "      <td>150.3900</td>\n",
              "      <td>6610700.0000</td>\n",
              "      <td>5706900.0000</td>\n",
              "      <td>87724700</td>\n",
              "      <td>17860500.0000</td>\n",
              "    </tr>\n",
              "    <tr>\n",
              "      <th>2021-12-14</th>\n",
              "      <td>165.4400</td>\n",
              "      <td>115.5838</td>\n",
              "      <td>463.3600</td>\n",
              "      <td>150.5304</td>\n",
              "      <td>165.4400</td>\n",
              "      <td>115.6900</td>\n",
              "      <td>463.3600</td>\n",
              "      <td>150.7000</td>\n",
              "      <td>166.1400</td>\n",
              "      <td>115.8100</td>\n",
              "      <td>465.7400</td>\n",
              "      <td>150.9300</td>\n",
              "      <td>165.1600</td>\n",
              "      <td>115.4300</td>\n",
              "      <td>460.2500</td>\n",
              "      <td>149.3100</td>\n",
              "      <td>165.3400</td>\n",
              "      <td>115.6500</td>\n",
              "      <td>463.0900</td>\n",
              "      <td>150.3700</td>\n",
              "      <td>8637900.0000</td>\n",
              "      <td>4749500.0000</td>\n",
              "      <td>97264100</td>\n",
              "      <td>14015500.0000</td>\n",
              "    </tr>\n",
              "    <tr>\n",
              "      <th>2021-12-15</th>\n",
              "      <td>166.1500</td>\n",
              "      <td>115.4140</td>\n",
              "      <td>470.6000</td>\n",
              "      <td>149.0820</td>\n",
              "      <td>166.1500</td>\n",
              "      <td>115.5200</td>\n",
              "      <td>470.6000</td>\n",
              "      <td>149.2500</td>\n",
              "      <td>166.4000</td>\n",
              "      <td>115.7300</td>\n",
              "      <td>470.8600</td>\n",
              "      <td>150.7900</td>\n",
              "      <td>163.8000</td>\n",
              "      <td>115.2800</td>\n",
              "      <td>460.7400</td>\n",
              "      <td>149.1300</td>\n",
              "      <td>165.2700</td>\n",
              "      <td>115.4100</td>\n",
              "      <td>463.4200</td>\n",
              "      <td>149.6100</td>\n",
              "      <td>14231200.0000</td>\n",
              "      <td>8428000.0000</td>\n",
              "      <td>116899300</td>\n",
              "      <td>25383900.0000</td>\n",
              "    </tr>\n",
              "    <tr>\n",
              "      <th>2021-12-16</th>\n",
              "      <td>168.1600</td>\n",
              "      <td>115.7500</td>\n",
              "      <td>466.4500</td>\n",
              "      <td>149.1400</td>\n",
              "      <td>168.1600</td>\n",
              "      <td>115.7500</td>\n",
              "      <td>466.4500</td>\n",
              "      <td>149.1400</td>\n",
              "      <td>168.1800</td>\n",
              "      <td>115.9100</td>\n",
              "      <td>472.8700</td>\n",
              "      <td>149.8800</td>\n",
              "      <td>166.9400</td>\n",
              "      <td>115.5600</td>\n",
              "      <td>464.8000</td>\n",
              "      <td>148.7300</td>\n",
              "      <td>167.0100</td>\n",
              "      <td>115.5800</td>\n",
              "      <td>472.5700</td>\n",
              "      <td>148.7500</td>\n",
              "      <td>11174800.0000</td>\n",
              "      <td>9085000.0000</td>\n",
              "      <td>116332000</td>\n",
              "      <td>18677400.0000</td>\n",
              "    </tr>\n",
              "  </tbody>\n",
              "</table>\n",
              "<p>7275 rows × 24 columns</p>\n",
              "</div>"
            ],
            "text/plain": [
              "           Adj Close                    ...       Volume                         \n",
              "                 GLD      IEF      SPY  ...          IEF        SPY           TLT\n",
              "Date                                    ...                                      \n",
              "1993-01-29       nan      nan  25.7174  ...          nan    1003200           nan\n",
              "1993-02-01       nan      nan  25.9003  ...          nan     480500           nan\n",
              "1993-02-02       nan      nan  25.9552  ...          nan     201300           nan\n",
              "1993-02-03       nan      nan  26.2295  ...          nan     529400           nan\n",
              "1993-02-04       nan      nan  26.3393  ...          nan     531500           nan\n",
              "...              ...      ...      ...  ...          ...        ...           ...\n",
              "2021-12-10  166.5800 115.2342 470.7400  ... 5051500.0000   76949400 14297300.0000\n",
              "2021-12-13  167.0000 115.7837 466.5700  ... 5706900.0000   87724700 17860500.0000\n",
              "2021-12-14  165.4400 115.5838 463.3600  ... 4749500.0000   97264100 14015500.0000\n",
              "2021-12-15  166.1500 115.4140 470.6000  ... 8428000.0000  116899300 25383900.0000\n",
              "2021-12-16  168.1600 115.7500 466.4500  ... 9085000.0000  116332000 18677400.0000\n",
              "\n",
              "[7275 rows x 24 columns]"
            ]
          },
          "metadata": {},
          "execution_count": 6
        }
      ]
    },
    {
      "cell_type": "markdown",
      "source": [
        "We focus on 'Adj close' values from the data set and drop the null values."
      ],
      "metadata": {
        "id": "r-1JRC5crdmE"
      }
    },
    {
      "cell_type": "code",
      "source": [
        "full_portfolio = full_portfolio['Adj Close']\n"
      ],
      "metadata": {
        "id": "zJX_oD1srH8i"
      },
      "execution_count": 7,
      "outputs": []
    },
    {
      "cell_type": "code",
      "source": [
        "full_portfolio= full_portfolio.dropna()"
      ],
      "metadata": {
        "id": "FFmFdQLrwW2f"
      },
      "execution_count": 8,
      "outputs": []
    },
    {
      "cell_type": "code",
      "source": [
        "full_portfolio.head()"
      ],
      "metadata": {
        "colab": {
          "base_uri": "https://localhost:8080/",
          "height": 238
        },
        "id": "bzghW8GMK0Oi",
        "outputId": "bdb2e288-6063-45ad-b491-f0a40fbfd4b7"
      },
      "execution_count": 9,
      "outputs": [
        {
          "output_type": "execute_result",
          "data": {
            "text/html": [
              "<div>\n",
              "<style scoped>\n",
              "    .dataframe tbody tr th:only-of-type {\n",
              "        vertical-align: middle;\n",
              "    }\n",
              "\n",
              "    .dataframe tbody tr th {\n",
              "        vertical-align: top;\n",
              "    }\n",
              "\n",
              "    .dataframe thead th {\n",
              "        text-align: right;\n",
              "    }\n",
              "</style>\n",
              "<table border=\"1\" class=\"dataframe\">\n",
              "  <thead>\n",
              "    <tr style=\"text-align: right;\">\n",
              "      <th></th>\n",
              "      <th>GLD</th>\n",
              "      <th>IEF</th>\n",
              "      <th>SPY</th>\n",
              "      <th>TLT</th>\n",
              "    </tr>\n",
              "    <tr>\n",
              "      <th>Date</th>\n",
              "      <th></th>\n",
              "      <th></th>\n",
              "      <th></th>\n",
              "      <th></th>\n",
              "    </tr>\n",
              "  </thead>\n",
              "  <tbody>\n",
              "    <tr>\n",
              "      <th>2004-11-18</th>\n",
              "      <td>44.3800</td>\n",
              "      <td>55.0613</td>\n",
              "      <td>85.0503</td>\n",
              "      <td>51.6190</td>\n",
              "    </tr>\n",
              "    <tr>\n",
              "      <th>2004-11-19</th>\n",
              "      <td>44.7800</td>\n",
              "      <td>54.7595</td>\n",
              "      <td>84.1048</td>\n",
              "      <td>51.2070</td>\n",
              "    </tr>\n",
              "    <tr>\n",
              "      <th>2004-11-22</th>\n",
              "      <td>44.9500</td>\n",
              "      <td>54.7981</td>\n",
              "      <td>84.5059</td>\n",
              "      <td>51.4739</td>\n",
              "    </tr>\n",
              "    <tr>\n",
              "      <th>2004-11-23</th>\n",
              "      <td>44.7500</td>\n",
              "      <td>54.7467</td>\n",
              "      <td>84.6349</td>\n",
              "      <td>51.5377</td>\n",
              "    </tr>\n",
              "    <tr>\n",
              "      <th>2004-11-24</th>\n",
              "      <td>45.0500</td>\n",
              "      <td>54.8237</td>\n",
              "      <td>84.8354</td>\n",
              "      <td>51.5377</td>\n",
              "    </tr>\n",
              "  </tbody>\n",
              "</table>\n",
              "</div>"
            ],
            "text/plain": [
              "               GLD     IEF     SPY     TLT\n",
              "Date                                      \n",
              "2004-11-18 44.3800 55.0613 85.0503 51.6190\n",
              "2004-11-19 44.7800 54.7595 84.1048 51.2070\n",
              "2004-11-22 44.9500 54.7981 84.5059 51.4739\n",
              "2004-11-23 44.7500 54.7467 84.6349 51.5377\n",
              "2004-11-24 45.0500 54.8237 84.8354 51.5377"
            ]
          },
          "metadata": {},
          "execution_count": 9
        }
      ]
    },
    {
      "cell_type": "markdown",
      "source": [
        "## **Optimised weights for All Weather Portfolio**"
      ],
      "metadata": {
        "id": "3ulnWZUer8pY"
      }
    },
    {
      "cell_type": "code",
      "source": [
        "import pandas as pd\n",
        "import pandas_datareader.data as web\n",
        "import numpy as np\n",
        "import datetime\n",
        "from scipy.optimize import minimize\n",
        "TOLERANCE = 1e-10\n",
        "\n",
        "\n",
        "def _allocation_risk(weights, covariances):\n",
        "\n",
        "    # We calculate the risk of the weights distribution\n",
        "    portfolio_risk = np.sqrt((weights * covariances * weights.T))[0, 0]\n",
        "\n",
        "    # It returns the risk of the weights distribution\n",
        "    return portfolio_risk\n",
        "\n",
        "\n",
        "def _assets_risk_contribution_to_allocation_risk(weights, covariances):\n",
        "\n",
        "    # We calculate the risk of the weights distribution\n",
        "    portfolio_risk = _allocation_risk(weights, covariances)\n",
        "\n",
        "    # We calculate the contribution of each asset to the risk of the weights\n",
        "    # distribution\n",
        "    assets_risk_contribution = np.multiply(weights.T, covariances * weights.T) \\\n",
        "        / portfolio_risk\n",
        "\n",
        "    # It returns the contribution of each asset to the risk of the weights\n",
        "    # distribution\n",
        "    return assets_risk_contribution\n",
        "\n",
        "\n",
        "def _risk_budget_objective_error(weights, args):\n",
        "\n",
        "    # The covariance matrix occupies the first position in the variable\n",
        "    covariances = args[0]\n",
        "\n",
        "    # The desired contribution of each asset to the portfolio risk occupies the\n",
        "    # second position\n",
        "    assets_risk_budget = args[1]\n",
        "\n",
        "    # We convert the weights to a matrix\n",
        "    weights = np.matrix(weights)\n",
        "\n",
        "    # We calculate the risk of the weights distribution\n",
        "    portfolio_risk = _allocation_risk(weights, covariances)\n",
        "\n",
        "    # We calculate the contribution of each asset to the risk of the weights\n",
        "    # distribution\n",
        "    assets_risk_contribution = \\\n",
        "        _assets_risk_contribution_to_allocation_risk(weights, covariances)\n",
        "\n",
        "    # We calculate the desired contribution of each asset to the risk of the\n",
        "    # weights distribution\n",
        "    assets_risk_target = \\\n",
        "        np.asmatrix(np.multiply(portfolio_risk, assets_risk_budget))\n",
        "\n",
        "    # Error between the desired contribution and the calculated contribution of\n",
        "    # each asset\n",
        "    error = \\\n",
        "        sum(np.square(assets_risk_contribution - assets_risk_target.T))[0, 0]\n",
        "\n",
        "    # It returns the calculated error\n",
        "    return error\n",
        "\n",
        "\n",
        "def _get_risk_parity_weights(covariances, assets_risk_budget, initial_weights):\n",
        "\n",
        "    # Restrictions to consider in the optimisation: only long positions whose\n",
        "    # sum equals 100%\n",
        "    constraints = ({'type': 'eq', 'fun': lambda x: np.sum(x) - 1.0},\n",
        "                   {'type': 'ineq', 'fun': lambda x: x})\n",
        "\n",
        "    # Optimisation process in scipy\n",
        "    optimize_result = minimize(fun=_risk_budget_objective_error,\n",
        "                               x0=initial_weights,\n",
        "                               args=[covariances, assets_risk_budget],\n",
        "                               method='SLSQP',\n",
        "                               constraints=constraints,\n",
        "                               tol=TOLERANCE,\n",
        "                               options={'disp': False})\n",
        "\n",
        "    # Recover the weights from the optimised object\n",
        "    weights = optimize_result.x\n",
        "\n",
        "    # It returns the optimised weights\n",
        "    return weights\n",
        "\n",
        "\n",
        "def get_weights(label=['GLD','IEF','SPY','TLT']):\n",
        "\n",
        "    # We download the prices from Yahoo Finance\n",
        "    prices = full_portfolio #pd.DataFrame([web.DataReader(t,\n",
        "    #                                       'yahoo',\n",
        "    #                                       start_date,\n",
        "    #                                       end_date).loc[:, 'Adj Close']\n",
        "    #                        for t in label],\n",
        "    #                       index=label).T.asfreq('B').ffill()\n",
        "\n",
        "    # We calculate the covariance matrix\n",
        "    covariances = 252.0 * \\\n",
        "        prices.pct_change().cov().values\n",
        "\n",
        "    # The desired contribution of each asset to the portfolio risk: we want all\n",
        "    # asset to contribute equally\n",
        "    assets_risk_budget = [1 / prices.shape[1]] * prices.shape[1]\n",
        "\n",
        "    # Initial weights: equally weighted\n",
        "    init_weights = [1 / prices.shape[1]] * prices.shape[1]\n",
        "\n",
        "    # Optimisation process of weights\n",
        "    weights = \\\n",
        "        _get_risk_parity_weights(covariances, assets_risk_budget, init_weights)\n",
        "\n",
        "    # Convert the weights to a pandas Series\n",
        "    weights = pd.Series(weights, index=prices.columns, name='weight')\n",
        "\n",
        "    # It returns the optimised weights\n",
        "    return weights"
      ],
      "metadata": {
        "id": "zmR4ixcYsmpA"
      },
      "execution_count": 10,
      "outputs": []
    },
    {
      "cell_type": "code",
      "source": [
        "a= get_weights()\n",
        "a"
      ],
      "metadata": {
        "colab": {
          "base_uri": "https://localhost:8080/",
          "height": 0
        },
        "id": "vNSI_28wstP1",
        "outputId": "36d15abc-e51d-45e8-f9ee-bd3081c9c700"
      },
      "execution_count": 11,
      "outputs": [
        {
          "output_type": "execute_result",
          "data": {
            "text/plain": [
              "GLD   0.1532\n",
              "IEF   0.4195\n",
              "SPY   0.2316\n",
              "TLT   0.1957\n",
              "Name: weight, dtype: float64"
            ]
          },
          "metadata": {},
          "execution_count": 11
        }
      ]
    },
    {
      "cell_type": "markdown",
      "source": [
        "## **All Weather Portfolio- Return, Volatility, Risk Contribution, Cumulative Returns**"
      ],
      "metadata": {
        "id": "p6wq8-ZCtMtv"
      }
    },
    {
      "cell_type": "markdown",
      "source": [
        "Weighted return of All Weather Portfolio"
      ],
      "metadata": {
        "id": "DadKytr3vOYN"
      }
    },
    {
      "cell_type": "code",
      "source": [
        "abcd= full_portfolio.pct_change().dropna()\n",
        "weighted_returns_full_portfolio = abcd.dot(a)\n",
        "weighted_returns_full_portfolio1= 252 * weighted_returns_full_portfolio.mean()\n",
        "weighted_returns_full_portfolio1"
      ],
      "metadata": {
        "colab": {
          "base_uri": "https://localhost:8080/",
          "height": 0
        },
        "id": "i5PNzmRVtY42",
        "outputId": "f6693804-2580-45a8-c465-b9b3f3f9b667"
      },
      "execution_count": 12,
      "outputs": [
        {
          "output_type": "execute_result",
          "data": {
            "text/plain": [
              "0.075130696595328"
            ]
          },
          "metadata": {},
          "execution_count": 12
        }
      ]
    },
    {
      "cell_type": "markdown",
      "source": [
        "Volatility of All Weather Portfolio"
      ],
      "metadata": {
        "id": "z1ttcji1vRUB"
      }
    },
    {
      "cell_type": "code",
      "source": [
        "volatility_full_portfolio= 252 * abcd.cov()\n",
        "volatility_full_portfolio\n",
        "sd_full_portfolio = np.sqrt(np.dot(a, volatility_full_portfolio.dot(a)))\n",
        "sd_full_portfolio"
      ],
      "metadata": {
        "colab": {
          "base_uri": "https://localhost:8080/",
          "height": 0
        },
        "id": "9esnttEMvUHS",
        "outputId": "c3ea8406-e3de-4cb6-f49a-187b851b1b19"
      },
      "execution_count": 13,
      "outputs": [
        {
          "output_type": "execute_result",
          "data": {
            "text/plain": [
              "0.0648311951957294"
            ]
          },
          "metadata": {},
          "execution_count": 13
        }
      ]
    },
    {
      "cell_type": "markdown",
      "source": [
        "Risk contribution from ETFs in All Weather Portfolio"
      ],
      "metadata": {
        "id": "VKzZmMLavfdh"
      }
    },
    {
      "cell_type": "code",
      "source": [
        "(100 * a * volatility_full_portfolio.dot(a) / sd_full_portfolio).plot(kind='bar')\n",
        "plt.xlabel('Exchange Traded Fund (ETF)')\n",
        "plt.ylabel('Risk Contribution (%)')\n",
        "plt.title('Risk Contributions from Components in All weather portfolio')\n",
        "plt.xticks(rotation=0)\n",
        "plt.show()"
      ],
      "metadata": {
        "colab": {
          "base_uri": "https://localhost:8080/",
          "height": 594
        },
        "id": "ofmjr2atveLv",
        "outputId": "22697460-d513-4441-b30f-47eff2d5be5a"
      },
      "execution_count": 14,
      "outputs": [
        {
          "output_type": "display_data",
          "data": {
            "image/png": "[encoded data removed]",
            "text/plain": [
              "<Figure size 900x600 with 1 Axes>"
            ]
          },
          "metadata": {
            "needs_background": "light"
          }
        }
      ]
    },
    {
      "cell_type": "markdown",
      "source": [
        "Cumulative Returns in All Weather Portfolio"
      ],
      "metadata": {
        "id": "aq4K66t5zlkJ"
      }
    },
    {
      "cell_type": "code",
      "source": [
        "cumulative_ret1 = (weighted_returns_full_portfolio + 1).cumprod()\n",
        "cumulative_ret1.plot()"
      ],
      "metadata": {
        "colab": {
          "base_uri": "https://localhost:8080/",
          "height": 558
        },
        "id": "NTyhq8R5zadx",
        "outputId": "cb82aaff-6e8f-4ee4-8832-0b4b26ac3476"
      },
      "execution_count": 15,
      "outputs": [
        {
          "output_type": "execute_result",
          "data": {
            "text/plain": [
              "<matplotlib.axes._subplots.AxesSubplot at 0x7ff560bea390>"
            ]
          },
          "metadata": {},
          "execution_count": 15
        },
        {
          "output_type": "display_data",
          "data": {
            "image/png": "[encoded data removed]",
            "text/plain": [
              "<Figure size 900x600 with 1 Axes>"
            ]
          },
          "metadata": {
            "needs_background": "light"
          }
        }
      ]
    },
    {
      "cell_type": "markdown",
      "source": [
        "All weather portfolio is a conservative portfolio which encompasses all types of assets into the portfolio. This helps to diversify the portfolio resulting in better return-risk."
      ],
      "metadata": {
        "id": "4-w-ut1tBBwp"
      }
    },
    {
      "cell_type": "markdown",
      "source": [
        "## **Balanced portfolio- Return, Volatility, Risk Contribution, Cumulative Returns**"
      ],
      "metadata": {
        "id": "vJrytb6Ews76"
      }
    },
    {
      "cell_type": "code",
      "source": [
        "second_port = yf.download('SPY TLT', session=session)\n",
        "second_port.dropna()"
      ],
      "metadata": {
        "colab": {
          "base_uri": "https://localhost:8080/",
          "height": 504
        },
        "id": "0TIifqZIwuoS",
        "outputId": "2dffdd8a-afae-4c84-d4a7-e6d8d3b0bfd5"
      },
      "execution_count": 16,
      "outputs": [
        {
          "output_type": "stream",
          "name": "stdout",
          "text": [
            "[*********************100%***********************]  2 of 2 completed\n"
          ]
        },
        {
          "output_type": "execute_result",
          "data": {
            "text/html": [
              "<div>\n",
              "<style scoped>\n",
              "    .dataframe tbody tr th:only-of-type {\n",
              "        vertical-align: middle;\n",
              "    }\n",
              "\n",
              "    .dataframe tbody tr th {\n",
              "        vertical-align: top;\n",
              "    }\n",
              "\n",
              "    .dataframe thead tr th {\n",
              "        text-align: left;\n",
              "    }\n",
              "\n",
              "    .dataframe thead tr:last-of-type th {\n",
              "        text-align: right;\n",
              "    }\n",
              "</style>\n",
              "<table border=\"1\" class=\"dataframe\">\n",
              "  <thead>\n",
              "    <tr>\n",
              "      <th></th>\n",
              "      <th colspan=\"2\" halign=\"left\">Adj Close</th>\n",
              "      <th colspan=\"2\" halign=\"left\">Close</th>\n",
              "      <th colspan=\"2\" halign=\"left\">High</th>\n",
              "      <th colspan=\"2\" halign=\"left\">Low</th>\n",
              "      <th colspan=\"2\" halign=\"left\">Open</th>\n",
              "      <th colspan=\"2\" halign=\"left\">Volume</th>\n",
              "    </tr>\n",
              "    <tr>\n",
              "      <th></th>\n",
              "      <th>SPY</th>\n",
              "      <th>TLT</th>\n",
              "      <th>SPY</th>\n",
              "      <th>TLT</th>\n",
              "      <th>SPY</th>\n",
              "      <th>TLT</th>\n",
              "      <th>SPY</th>\n",
              "      <th>TLT</th>\n",
              "      <th>SPY</th>\n",
              "      <th>TLT</th>\n",
              "      <th>SPY</th>\n",
              "      <th>TLT</th>\n",
              "    </tr>\n",
              "    <tr>\n",
              "      <th>Date</th>\n",
              "      <th></th>\n",
              "      <th></th>\n",
              "      <th></th>\n",
              "      <th></th>\n",
              "      <th></th>\n",
              "      <th></th>\n",
              "      <th></th>\n",
              "      <th></th>\n",
              "      <th></th>\n",
              "      <th></th>\n",
              "      <th></th>\n",
              "      <th></th>\n",
              "    </tr>\n",
              "  </thead>\n",
              "  <tbody>\n",
              "    <tr>\n",
              "      <th>2002-07-30</th>\n",
              "      <td>62.5959</td>\n",
              "      <td>42.2070</td>\n",
              "      <td>90.9400</td>\n",
              "      <td>81.5200</td>\n",
              "      <td>91.4000</td>\n",
              "      <td>81.9000</td>\n",
              "      <td>88.7200</td>\n",
              "      <td>81.5200</td>\n",
              "      <td>89.3200</td>\n",
              "      <td>81.7500</td>\n",
              "      <td>47532200</td>\n",
              "      <td>6100.0000</td>\n",
              "    </tr>\n",
              "    <tr>\n",
              "      <th>2002-07-31</th>\n",
              "      <td>62.7473</td>\n",
              "      <td>42.7300</td>\n",
              "      <td>91.1600</td>\n",
              "      <td>82.5300</td>\n",
              "      <td>91.5500</td>\n",
              "      <td>82.8000</td>\n",
              "      <td>89.2500</td>\n",
              "      <td>81.9000</td>\n",
              "      <td>90.4900</td>\n",
              "      <td>81.9500</td>\n",
              "      <td>44669900</td>\n",
              "      <td>29400.0000</td>\n",
              "    </tr>\n",
              "    <tr>\n",
              "      <th>2002-08-01</th>\n",
              "      <td>61.1091</td>\n",
              "      <td>42.9733</td>\n",
              "      <td>88.7800</td>\n",
              "      <td>83.0000</td>\n",
              "      <td>91.3500</td>\n",
              "      <td>83.0200</td>\n",
              "      <td>88.3300</td>\n",
              "      <td>82.5400</td>\n",
              "      <td>90.8800</td>\n",
              "      <td>82.5400</td>\n",
              "      <td>66571900</td>\n",
              "      <td>25000.0000</td>\n",
              "    </tr>\n",
              "    <tr>\n",
              "      <th>2002-08-02</th>\n",
              "      <td>59.7394</td>\n",
              "      <td>43.4134</td>\n",
              "      <td>86.7900</td>\n",
              "      <td>83.8500</td>\n",
              "      <td>88.9100</td>\n",
              "      <td>84.1000</td>\n",
              "      <td>85.6200</td>\n",
              "      <td>82.8800</td>\n",
              "      <td>88.5000</td>\n",
              "      <td>83.1600</td>\n",
              "      <td>51772900</td>\n",
              "      <td>52800.0000</td>\n",
              "    </tr>\n",
              "    <tr>\n",
              "      <th>2002-08-05</th>\n",
              "      <td>57.6606</td>\n",
              "      <td>43.6050</td>\n",
              "      <td>83.7700</td>\n",
              "      <td>84.2200</td>\n",
              "      <td>86.9300</td>\n",
              "      <td>84.4400</td>\n",
              "      <td>83.5500</td>\n",
              "      <td>83.8500</td>\n",
              "      <td>86.4900</td>\n",
              "      <td>84.0400</td>\n",
              "      <td>47191300</td>\n",
              "      <td>61100.0000</td>\n",
              "    </tr>\n",
              "    <tr>\n",
              "      <th>...</th>\n",
              "      <td>...</td>\n",
              "      <td>...</td>\n",
              "      <td>...</td>\n",
              "      <td>...</td>\n",
              "      <td>...</td>\n",
              "      <td>...</td>\n",
              "      <td>...</td>\n",
              "      <td>...</td>\n",
              "      <td>...</td>\n",
              "      <td>...</td>\n",
              "      <td>...</td>\n",
              "      <td>...</td>\n",
              "    </tr>\n",
              "    <tr>\n",
              "      <th>2021-12-10</th>\n",
              "      <td>470.7400</td>\n",
              "      <td>148.6924</td>\n",
              "      <td>470.7400</td>\n",
              "      <td>148.8600</td>\n",
              "      <td>470.9000</td>\n",
              "      <td>150.2400</td>\n",
              "      <td>466.5100</td>\n",
              "      <td>148.8100</td>\n",
              "      <td>469.2300</td>\n",
              "      <td>149.9200</td>\n",
              "      <td>76949400</td>\n",
              "      <td>14297300.0000</td>\n",
              "    </tr>\n",
              "    <tr>\n",
              "      <th>2021-12-13</th>\n",
              "      <td>466.5700</td>\n",
              "      <td>150.8900</td>\n",
              "      <td>466.5700</td>\n",
              "      <td>151.0600</td>\n",
              "      <td>470.5600</td>\n",
              "      <td>151.3100</td>\n",
              "      <td>466.2700</td>\n",
              "      <td>150.3100</td>\n",
              "      <td>470.1900</td>\n",
              "      <td>150.3900</td>\n",
              "      <td>87724700</td>\n",
              "      <td>17860500.0000</td>\n",
              "    </tr>\n",
              "    <tr>\n",
              "      <th>2021-12-14</th>\n",
              "      <td>463.3600</td>\n",
              "      <td>150.5304</td>\n",
              "      <td>463.3600</td>\n",
              "      <td>150.7000</td>\n",
              "      <td>465.7400</td>\n",
              "      <td>150.9300</td>\n",
              "      <td>460.2500</td>\n",
              "      <td>149.3100</td>\n",
              "      <td>463.0900</td>\n",
              "      <td>150.3700</td>\n",
              "      <td>97264100</td>\n",
              "      <td>14015500.0000</td>\n",
              "    </tr>\n",
              "    <tr>\n",
              "      <th>2021-12-15</th>\n",
              "      <td>470.6000</td>\n",
              "      <td>149.0820</td>\n",
              "      <td>470.6000</td>\n",
              "      <td>149.2500</td>\n",
              "      <td>470.8600</td>\n",
              "      <td>150.7900</td>\n",
              "      <td>460.7400</td>\n",
              "      <td>149.1300</td>\n",
              "      <td>463.4200</td>\n",
              "      <td>149.6100</td>\n",
              "      <td>116899300</td>\n",
              "      <td>25383900.0000</td>\n",
              "    </tr>\n",
              "    <tr>\n",
              "      <th>2021-12-16</th>\n",
              "      <td>466.4500</td>\n",
              "      <td>149.1400</td>\n",
              "      <td>466.4500</td>\n",
              "      <td>149.1400</td>\n",
              "      <td>472.8700</td>\n",
              "      <td>149.8800</td>\n",
              "      <td>464.8000</td>\n",
              "      <td>148.7300</td>\n",
              "      <td>472.5700</td>\n",
              "      <td>148.7500</td>\n",
              "      <td>116332000</td>\n",
              "      <td>18677400.0000</td>\n",
              "    </tr>\n",
              "  </tbody>\n",
              "</table>\n",
              "<p>4882 rows × 12 columns</p>\n",
              "</div>"
            ],
            "text/plain": [
              "           Adj Close             Close  ...     Open     Volume              \n",
              "                 SPY      TLT      SPY  ...      TLT        SPY           TLT\n",
              "Date                                    ...                                  \n",
              "2002-07-30   62.5959  42.2070  90.9400  ...  81.7500   47532200     6100.0000\n",
              "2002-07-31   62.7473  42.7300  91.1600  ...  81.9500   44669900    29400.0000\n",
              "2002-08-01   61.1091  42.9733  88.7800  ...  82.5400   66571900    25000.0000\n",
              "2002-08-02   59.7394  43.4134  86.7900  ...  83.1600   51772900    52800.0000\n",
              "2002-08-05   57.6606  43.6050  83.7700  ...  84.0400   47191300    61100.0000\n",
              "...              ...      ...      ...  ...      ...        ...           ...\n",
              "2021-12-10  470.7400 148.6924 470.7400  ... 149.9200   76949400 14297300.0000\n",
              "2021-12-13  466.5700 150.8900 466.5700  ... 150.3900   87724700 17860500.0000\n",
              "2021-12-14  463.3600 150.5304 463.3600  ... 150.3700   97264100 14015500.0000\n",
              "2021-12-15  470.6000 149.0820 470.6000  ... 149.6100  116899300 25383900.0000\n",
              "2021-12-16  466.4500 149.1400 466.4500  ... 148.7500  116332000 18677400.0000\n",
              "\n",
              "[4882 rows x 12 columns]"
            ]
          },
          "metadata": {},
          "execution_count": 16
        }
      ]
    },
    {
      "cell_type": "code",
      "source": [
        "returns1 = second_port['Adj Close'].pct_change().dropna()\n",
        "returns1.head()"
      ],
      "metadata": {
        "colab": {
          "base_uri": "https://localhost:8080/",
          "height": 238
        },
        "id": "Wb1Gcpomw5iZ",
        "outputId": "b0dd798f-1d75-472a-86ff-02ab397862ad"
      },
      "execution_count": 17,
      "outputs": [
        {
          "output_type": "execute_result",
          "data": {
            "text/html": [
              "<div>\n",
              "<style scoped>\n",
              "    .dataframe tbody tr th:only-of-type {\n",
              "        vertical-align: middle;\n",
              "    }\n",
              "\n",
              "    .dataframe tbody tr th {\n",
              "        vertical-align: top;\n",
              "    }\n",
              "\n",
              "    .dataframe thead th {\n",
              "        text-align: right;\n",
              "    }\n",
              "</style>\n",
              "<table border=\"1\" class=\"dataframe\">\n",
              "  <thead>\n",
              "    <tr style=\"text-align: right;\">\n",
              "      <th></th>\n",
              "      <th>SPY</th>\n",
              "      <th>TLT</th>\n",
              "    </tr>\n",
              "    <tr>\n",
              "      <th>Date</th>\n",
              "      <th></th>\n",
              "      <th></th>\n",
              "    </tr>\n",
              "  </thead>\n",
              "  <tbody>\n",
              "    <tr>\n",
              "      <th>2002-07-31</th>\n",
              "      <td>0.0024</td>\n",
              "      <td>0.0124</td>\n",
              "    </tr>\n",
              "    <tr>\n",
              "      <th>2002-08-01</th>\n",
              "      <td>-0.0261</td>\n",
              "      <td>0.0057</td>\n",
              "    </tr>\n",
              "    <tr>\n",
              "      <th>2002-08-02</th>\n",
              "      <td>-0.0224</td>\n",
              "      <td>0.0102</td>\n",
              "    </tr>\n",
              "    <tr>\n",
              "      <th>2002-08-05</th>\n",
              "      <td>-0.0348</td>\n",
              "      <td>0.0044</td>\n",
              "    </tr>\n",
              "    <tr>\n",
              "      <th>2002-08-06</th>\n",
              "      <td>0.0337</td>\n",
              "      <td>-0.0085</td>\n",
              "    </tr>\n",
              "  </tbody>\n",
              "</table>\n",
              "</div>"
            ],
            "text/plain": [
              "               SPY     TLT\n",
              "Date                      \n",
              "2002-07-31  0.0024  0.0124\n",
              "2002-08-01 -0.0261  0.0057\n",
              "2002-08-02 -0.0224  0.0102\n",
              "2002-08-05 -0.0348  0.0044\n",
              "2002-08-06  0.0337 -0.0085"
            ]
          },
          "metadata": {},
          "execution_count": 17
        }
      ]
    },
    {
      "cell_type": "code",
      "source": [
        "w1 = pd.Series({'SPY': 0.6, 'TLT': 0.4})"
      ],
      "metadata": {
        "id": "DFxo_gXkw_Dv"
      },
      "execution_count": 18,
      "outputs": []
    },
    {
      "cell_type": "markdown",
      "source": [
        "Weighted Return of 60-40 Portfolio"
      ],
      "metadata": {
        "id": "NmN-lQhExZY9"
      }
    },
    {
      "cell_type": "code",
      "source": [
        "weighted_returns_second_port = returns1.dot(w1)\n",
        "weighted_returns_second_port.head()\n",
        "weighted_returns_second_port1 = 252* weighted_returns_second_port.mean()\n",
        "weighted_returns_second_port1"
      ],
      "metadata": {
        "colab": {
          "base_uri": "https://localhost:8080/",
          "height": 0
        },
        "id": "D7FT46cixEnP",
        "outputId": "0a49eb2f-b335-47ea-bcec-25200dffadf7"
      },
      "execution_count": 19,
      "outputs": [
        {
          "output_type": "execute_result",
          "data": {
            "text/plain": [
              "0.10311489801835307"
            ]
          },
          "metadata": {},
          "execution_count": 19
        }
      ]
    },
    {
      "cell_type": "code",
      "source": [
        "weighted_returns_second_port.head()"
      ],
      "metadata": {
        "colab": {
          "base_uri": "https://localhost:8080/",
          "height": 0
        },
        "id": "9mB4Yap9Kmze",
        "outputId": "d4cb9fb6-c9f2-4e05-91fc-6d915048a240"
      },
      "execution_count": 20,
      "outputs": [
        {
          "output_type": "execute_result",
          "data": {
            "text/plain": [
              "Date\n",
              "2002-07-31    0.0064\n",
              "2002-08-01   -0.0134\n",
              "2002-08-02   -0.0094\n",
              "2002-08-05   -0.0191\n",
              "2002-08-06    0.0168\n",
              "dtype: float64"
            ]
          },
          "metadata": {},
          "execution_count": 20
        }
      ]
    },
    {
      "cell_type": "markdown",
      "source": [
        "Volatility of 60-40 Portfolio"
      ],
      "metadata": {
        "id": "bc8va0CyxePd"
      }
    },
    {
      "cell_type": "code",
      "source": [
        "volatility_full_portfolio2= 252 * returns1.cov()\n",
        "volatility_full_portfolio2\n",
        "sd_full_portfolio2 = np.sqrt(np.dot(w1, volatility_full_portfolio2.dot(w1)))\n",
        "sd_full_portfolio2"
      ],
      "metadata": {
        "colab": {
          "base_uri": "https://localhost:8080/",
          "height": 0
        },
        "id": "9KLZyURJxfvU",
        "outputId": "2a990a18-cf0d-4033-b1df-80ee74ed38d3"
      },
      "execution_count": 21,
      "outputs": [
        {
          "output_type": "execute_result",
          "data": {
            "text/plain": [
              "0.10522378260299908"
            ]
          },
          "metadata": {},
          "execution_count": 21
        }
      ]
    },
    {
      "cell_type": "markdown",
      "source": [
        "Risk contribution of ETF's 60-40 Portfolio"
      ],
      "metadata": {
        "id": "VlFZb6IXx5K-"
      }
    },
    {
      "cell_type": "code",
      "source": [
        "(100 * w1 * volatility_full_portfolio2.dot(w1) / sd_full_portfolio2).plot(kind='bar')\n",
        "plt.xlabel('Exchange Traded Fund (ETF)')\n",
        "plt.ylabel('Risk Contribution (%)')\n",
        "plt.title('Risk Contributions from Components in 60/40 Balanced Portfolio')\n",
        "plt.xticks(rotation=0)\n",
        "plt.show()"
      ],
      "metadata": {
        "colab": {
          "base_uri": "https://localhost:8080/",
          "height": 594
        },
        "id": "BSmmt4c0x6y-",
        "outputId": "7470e572-bf28-4985-f446-8ad9f45ee02c"
      },
      "execution_count": 22,
      "outputs": [
        {
          "output_type": "display_data",
          "data": {
            "image/png": "[encoded data removed]",
            "text/plain": [
              "<Figure size 900x600 with 1 Axes>"
            ]
          },
          "metadata": {
            "needs_background": "light"
          }
        }
      ]
    },
    {
      "cell_type": "markdown",
      "source": [
        "Cumulative returns of 60-40 Portfolio"
      ],
      "metadata": {
        "id": "BCIVU2dtz5nU"
      }
    },
    {
      "cell_type": "code",
      "source": [
        "cumulative_ret2 = (weighted_returns_second_port + 1).cumprod()\n",
        "cumulative_ret2.plot()\n"
      ],
      "metadata": {
        "colab": {
          "base_uri": "https://localhost:8080/",
          "height": 558
        },
        "id": "imUQYUgBz0Sj",
        "outputId": "1fb866b4-0490-4e55-dfac-8ce04f3dd3e9"
      },
      "execution_count": 23,
      "outputs": [
        {
          "output_type": "execute_result",
          "data": {
            "text/plain": [
              "<matplotlib.axes._subplots.AxesSubplot at 0x7ff5603a5d50>"
            ]
          },
          "metadata": {},
          "execution_count": 23
        },
        {
          "output_type": "display_data",
          "data": {
            "image/png": "[encoded data removed]",
            "text/plain": [
              "<Figure size 900x600 with 1 Axes>"
            ]
          },
          "metadata": {
            "needs_background": "light"
          }
        }
      ]
    },
    {
      "cell_type": "markdown",
      "source": [
        "Balanced portfolio is true to its name. Its returns and volatility are in between the risks and returns of All weather portfolio and All equity portfolio. It is slightly more diversified than All equity portfolio hence it has lower risk. But almost all of its risk comes from equities which makes it a bit more volatile than All weather portfolio."
      ],
      "metadata": {
        "id": "lggL-KRBAjak"
      }
    },
    {
      "cell_type": "markdown",
      "source": [
        "## **All Equity Portfolio - Return, Volatility, Risk Contribution, Cumulative Returns**"
      ],
      "metadata": {
        "id": "5cDA_HMCyUVy"
      }
    },
    {
      "cell_type": "code",
      "source": [
        "allequity = yf.download('SPY', session=session)\n",
        "allequity.head()"
      ],
      "metadata": {
        "colab": {
          "base_uri": "https://localhost:8080/",
          "height": 255
        },
        "id": "sk0XIIjLyV9X",
        "outputId": "9d1060fb-52a4-4c53-f011-bfa71d58b827"
      },
      "execution_count": 24,
      "outputs": [
        {
          "output_type": "stream",
          "name": "stdout",
          "text": [
            "\r[*********************100%***********************]  1 of 1 completed\n"
          ]
        },
        {
          "output_type": "execute_result",
          "data": {
            "text/html": [
              "<div>\n",
              "<style scoped>\n",
              "    .dataframe tbody tr th:only-of-type {\n",
              "        vertical-align: middle;\n",
              "    }\n",
              "\n",
              "    .dataframe tbody tr th {\n",
              "        vertical-align: top;\n",
              "    }\n",
              "\n",
              "    .dataframe thead th {\n",
              "        text-align: right;\n",
              "    }\n",
              "</style>\n",
              "<table border=\"1\" class=\"dataframe\">\n",
              "  <thead>\n",
              "    <tr style=\"text-align: right;\">\n",
              "      <th></th>\n",
              "      <th>Open</th>\n",
              "      <th>High</th>\n",
              "      <th>Low</th>\n",
              "      <th>Close</th>\n",
              "      <th>Adj Close</th>\n",
              "      <th>Volume</th>\n",
              "    </tr>\n",
              "    <tr>\n",
              "      <th>Date</th>\n",
              "      <th></th>\n",
              "      <th></th>\n",
              "      <th></th>\n",
              "      <th></th>\n",
              "      <th></th>\n",
              "      <th></th>\n",
              "    </tr>\n",
              "  </thead>\n",
              "  <tbody>\n",
              "    <tr>\n",
              "      <th>1993-01-29</th>\n",
              "      <td>43.9688</td>\n",
              "      <td>43.9688</td>\n",
              "      <td>43.7500</td>\n",
              "      <td>43.9375</td>\n",
              "      <td>25.7174</td>\n",
              "      <td>1003200</td>\n",
              "    </tr>\n",
              "    <tr>\n",
              "      <th>1993-02-01</th>\n",
              "      <td>43.9688</td>\n",
              "      <td>44.2500</td>\n",
              "      <td>43.9688</td>\n",
              "      <td>44.2500</td>\n",
              "      <td>25.9003</td>\n",
              "      <td>480500</td>\n",
              "    </tr>\n",
              "    <tr>\n",
              "      <th>1993-02-02</th>\n",
              "      <td>44.2188</td>\n",
              "      <td>44.3750</td>\n",
              "      <td>44.1250</td>\n",
              "      <td>44.3438</td>\n",
              "      <td>25.9552</td>\n",
              "      <td>201300</td>\n",
              "    </tr>\n",
              "    <tr>\n",
              "      <th>1993-02-03</th>\n",
              "      <td>44.4062</td>\n",
              "      <td>44.8438</td>\n",
              "      <td>44.3750</td>\n",
              "      <td>44.8125</td>\n",
              "      <td>26.2295</td>\n",
              "      <td>529400</td>\n",
              "    </tr>\n",
              "    <tr>\n",
              "      <th>1993-02-04</th>\n",
              "      <td>44.9688</td>\n",
              "      <td>45.0938</td>\n",
              "      <td>44.4688</td>\n",
              "      <td>45.0000</td>\n",
              "      <td>26.3393</td>\n",
              "      <td>531500</td>\n",
              "    </tr>\n",
              "  </tbody>\n",
              "</table>\n",
              "</div>"
            ],
            "text/plain": [
              "              Open    High     Low   Close  Adj Close   Volume\n",
              "Date                                                          \n",
              "1993-01-29 43.9688 43.9688 43.7500 43.9375    25.7174  1003200\n",
              "1993-02-01 43.9688 44.2500 43.9688 44.2500    25.9003   480500\n",
              "1993-02-02 44.2188 44.3750 44.1250 44.3438    25.9552   201300\n",
              "1993-02-03 44.4062 44.8438 44.3750 44.8125    26.2295   529400\n",
              "1993-02-04 44.9688 45.0938 44.4688 45.0000    26.3393   531500"
            ]
          },
          "metadata": {},
          "execution_count": 24
        }
      ]
    },
    {
      "cell_type": "markdown",
      "source": [
        "Return of All Equity Portfolio"
      ],
      "metadata": {
        "id": "Jg7klsv6ytHK"
      }
    },
    {
      "cell_type": "code",
      "source": [
        "allequity_returns = allequity['Adj Close'].pct_change().dropna()\n",
        "allequity_returns1 = 252 * allequity_returns.mean()\n",
        "allequity_returns1"
      ],
      "metadata": {
        "colab": {
          "base_uri": "https://localhost:8080/",
          "height": 0
        },
        "id": "_9l1DfuIyayY",
        "outputId": "21bddc7a-e652-402f-8017-36a177e1292c"
      },
      "execution_count": 25,
      "outputs": [
        {
          "output_type": "execute_result",
          "data": {
            "text/plain": [
              "0.11796092679437141"
            ]
          },
          "metadata": {},
          "execution_count": 25
        }
      ]
    },
    {
      "cell_type": "markdown",
      "source": [
        "Volatility of All Equity Portfolio"
      ],
      "metadata": {
        "id": "oqkOn8V3yuXR"
      }
    },
    {
      "cell_type": "code",
      "source": [
        "vol_allequity_returns=  allequity_returns.std()\n",
        "vol_allequity_returns= vol_allequity_returns * np.sqrt(252)\n",
        "vol_allequity_returns"
      ],
      "metadata": {
        "colab": {
          "base_uri": "https://localhost:8080/",
          "height": 0
        },
        "id": "z22c0whuydf7",
        "outputId": "d0f1d3db-10ed-4cc2-8c73-13a2161868a3"
      },
      "execution_count": 26,
      "outputs": [
        {
          "output_type": "execute_result",
          "data": {
            "text/plain": [
              "0.18723582883888165"
            ]
          },
          "metadata": {},
          "execution_count": 26
        }
      ]
    },
    {
      "cell_type": "markdown",
      "source": [
        "Cumulative Returns of All Equity Portfolio"
      ],
      "metadata": {
        "id": "Hus9AGEM0_aX"
      }
    },
    {
      "cell_type": "code",
      "source": [
        "cumulative_ret3 = (allequity_returns + 1).cumprod()\n",
        "cumulative_ret3.plot()\n",
        "### cumulative_ret3^(1/no. of years)-1= annualized cumulative return"
      ],
      "metadata": {
        "colab": {
          "base_uri": "https://localhost:8080/",
          "height": 558
        },
        "id": "fvfAM0DH00FV",
        "outputId": "01d2aec3-1415-4aa7-fbd0-d658bfbdfca0"
      },
      "execution_count": 27,
      "outputs": [
        {
          "output_type": "execute_result",
          "data": {
            "text/plain": [
              "<matplotlib.axes._subplots.AxesSubplot at 0x7ff5605ccbd0>"
            ]
          },
          "metadata": {},
          "execution_count": 27
        },
        {
          "output_type": "display_data",
          "data": {
            "image/png": "[encoded data removed]",
            "text/plain": [
              "<Figure size 900x600 with 1 Axes>"
            ]
          },
          "metadata": {
            "needs_background": "light"
          }
        }
      ]
    },
    {
      "cell_type": "markdown",
      "source": [
        "All equity portfolio has the highest return,volatility among its comparables. The reason is that it is a non-diversified portfolio and hence there is higher risk which results in higher returns."
      ],
      "metadata": {
        "id": "e8KFb2aDAQSB"
      }
    },
    {
      "cell_type": "markdown",
      "source": [
        "## **Sharpe Ratios for Full Sample**"
      ],
      "metadata": {
        "id": "gYXgFWi-yxFj"
      }
    },
    {
      "cell_type": "markdown",
      "source": [
        "Sharpe ratio: One of the most popular performance evaluation metrics, it measures the excess return (over the risk-free rate) per unit of standard deviation. When no risk-free rate is provided, the default assumption is that it is equal to 0%. The greater the Sharpe ratio, the better the portfolio's risk-adjusted performance."
      ],
      "metadata": {
        "id": "n5tTK41U6hie"
      }
    },
    {
      "cell_type": "code",
      "source": [
        "pdr.famafrench.get_available_datasets()"
      ],
      "metadata": {
        "colab": {
          "base_uri": "https://localhost:8080/",
          "height": 0
        },
        "id": "04ZBgJBS6ftG",
        "outputId": "25793426-f5af-457b-e9f2-9fa536c00e31"
      },
      "execution_count": 28,
      "outputs": [
        {
          "output_type": "execute_result",
          "data": {
            "text/plain": [
              "['F-F_Research_Data_Factors',\n",
              " 'F-F_Research_Data_Factors_weekly',\n",
              " 'F-F_Research_Data_Factors_daily',\n",
              " 'F-F_Research_Data_5_Factors_2x3',\n",
              " 'F-F_Research_Data_5_Factors_2x3_daily',\n",
              " 'Portfolios_Formed_on_ME',\n",
              " 'Portfolios_Formed_on_ME_Wout_Div',\n",
              " 'Portfolios_Formed_on_ME_Daily',\n",
              " 'Portfolios_Formed_on_BE-ME',\n",
              " 'Portfolios_Formed_on_BE-ME_Wout_Div',\n",
              " 'Portfolios_Formed_on_BE-ME_Daily',\n",
              " 'Portfolios_Formed_on_OP',\n",
              " 'Portfolios_Formed_on_OP_Wout_Div',\n",
              " 'Portfolios_Formed_on_OP_Daily',\n",
              " 'Portfolios_Formed_on_INV',\n",
              " 'Portfolios_Formed_on_INV_Wout_Div',\n",
              " 'Portfolios_Formed_on_INV_Daily',\n",
              " '6_Portfolios_2x3',\n",
              " '6_Portfolios_2x3_Wout_Div',\n",
              " '6_Portfolios_2x3_weekly',\n",
              " '6_Portfolios_2x3_daily',\n",
              " '25_Portfolios_5x5',\n",
              " '25_Portfolios_5x5_Wout_Div',\n",
              " '25_Portfolios_5x5_Daily',\n",
              " '100_Portfolios_10x10',\n",
              " '100_Portfolios_10x10_Wout_Div',\n",
              " '100_Portfolios_10x10_Daily',\n",
              " '6_Portfolios_ME_OP_2x3',\n",
              " '6_Portfolios_ME_OP_2x3_Wout_Div',\n",
              " '6_Portfolios_ME_OP_2x3_daily',\n",
              " '25_Portfolios_ME_OP_5x5',\n",
              " '25_Portfolios_ME_OP_5x5_Wout_Div',\n",
              " '25_Portfolios_ME_OP_5x5_daily',\n",
              " '100_Portfolios_ME_OP_10x10',\n",
              " '100_Portfolios_10x10_ME_OP_Wout_Div',\n",
              " '100_Portfolios_ME_OP_10x10_daily',\n",
              " '6_Portfolios_ME_INV_2x3',\n",
              " '6_Portfolios_ME_INV_2x3_Wout_Div',\n",
              " '6_Portfolios_ME_INV_2x3_daily',\n",
              " '25_Portfolios_ME_INV_5x5',\n",
              " '25_Portfolios_ME_INV_5x5_Wout_Div',\n",
              " '25_Portfolios_ME_INV_5x5_daily',\n",
              " '100_Portfolios_ME_INV_10x10',\n",
              " '100_Portfolios_10x10_ME_INV_Wout_Div',\n",
              " '100_Portfolios_ME_INV_10x10_daily',\n",
              " '25_Portfolios_BEME_OP_5x5',\n",
              " '25_Portfolios_BEME_OP_5x5_Wout_Div',\n",
              " '25_Portfolios_BEME_OP_5x5_daily',\n",
              " '25_Portfolios_BEME_INV_5x5',\n",
              " '25_Portfolios_BEME_INV_5x5_Wout_Div',\n",
              " '25_Portfolios_BEME_INV_5x5_daily',\n",
              " '25_Portfolios_OP_INV_5x5',\n",
              " '25_Portfolios_OP_INV_5x5_Wout_Div',\n",
              " '25_Portfolios_OP_INV_5x5_daily',\n",
              " '32_Portfolios_ME_BEME_OP_2x4x4',\n",
              " '32_Portfolios_ME_BEME_OP_2x4x4_Wout_Div',\n",
              " '32_Portfolios_ME_BEME_INV_2x4x4',\n",
              " '32_Portfolios_ME_BEME_INV_2x4x4_Wout_Div',\n",
              " '32_Portfolios_ME_OP_INV_2x4x4',\n",
              " '32_Portfolios_ME_OP_INV_2x4x4_Wout_Div',\n",
              " 'Portfolios_Formed_on_E-P',\n",
              " 'Portfolios_Formed_on_E-P_Wout_Div',\n",
              " 'Portfolios_Formed_on_CF-P',\n",
              " 'Portfolios_Formed_on_CF-P_Wout_Div',\n",
              " 'Portfolios_Formed_on_D-P',\n",
              " 'Portfolios_Formed_on_D-P_Wout_Div',\n",
              " '6_Portfolios_ME_EP_2x3',\n",
              " '6_Portfolios_ME_EP_2x3_Wout_Div',\n",
              " '6_Portfolios_ME_CFP_2x3',\n",
              " '6_Portfolios_ME_CFP_2x3_Wout_Div',\n",
              " '6_Portfolios_ME_DP_2x3',\n",
              " '6_Portfolios_ME_DP_2x3_Wout_Div',\n",
              " 'F-F_Momentum_Factor',\n",
              " 'F-F_Momentum_Factor_daily',\n",
              " '6_Portfolios_ME_Prior_12_2',\n",
              " '6_Portfolios_ME_Prior_12_2_Daily',\n",
              " '25_Portfolios_ME_Prior_12_2',\n",
              " '25_Portfolios_ME_Prior_12_2_Daily',\n",
              " '10_Portfolios_Prior_12_2',\n",
              " '10_Portfolios_Prior_12_2_Daily',\n",
              " 'F-F_ST_Reversal_Factor',\n",
              " 'F-F_ST_Reversal_Factor_daily',\n",
              " '6_Portfolios_ME_Prior_1_0',\n",
              " '6_Portfolios_ME_Prior_1_0_Daily',\n",
              " '25_Portfolios_ME_Prior_1_0',\n",
              " '25_Portfolios_ME_Prior_1_0_Daily',\n",
              " '10_Portfolios_Prior_1_0',\n",
              " '10_Portfolios_Prior_1_0_Daily',\n",
              " 'F-F_LT_Reversal_Factor',\n",
              " 'F-F_LT_Reversal_Factor_daily',\n",
              " '6_Portfolios_ME_Prior_60_13',\n",
              " '6_Portfolios_ME_Prior_60_13_Daily',\n",
              " '25_Portfolios_ME_Prior_60_13',\n",
              " '25_Portfolios_ME_Prior_60_13_Daily',\n",
              " '10_Portfolios_Prior_60_13',\n",
              " '10_Portfolios_Prior_60_13_Daily',\n",
              " 'Portfolios_Formed_on_AC',\n",
              " '25_Portfolios_ME_AC_5x5',\n",
              " 'Portfolios_Formed_on_BETA',\n",
              " '25_Portfolios_ME_BETA_5x5',\n",
              " 'Portfolios_Formed_on_NI',\n",
              " '25_Portfolios_ME_NI_5x5',\n",
              " 'Portfolios_Formed_on_VAR',\n",
              " '25_Portfolios_ME_VAR_5x5',\n",
              " 'Portfolios_Formed_on_RESVAR',\n",
              " '25_Portfolios_ME_RESVAR_5x5',\n",
              " '5_Industry_Portfolios',\n",
              " '5_Industry_Portfolios_Wout_Div',\n",
              " '5_Industry_Portfolios_daily',\n",
              " '10_Industry_Portfolios',\n",
              " '10_Industry_Portfolios_Wout_Div',\n",
              " '10_Industry_Portfolios_daily',\n",
              " '12_Industry_Portfolios',\n",
              " '12_Industry_Portfolios_Wout_Div',\n",
              " '12_Industry_Portfolios_daily',\n",
              " '17_Industry_Portfolios',\n",
              " '17_Industry_Portfolios_Wout_Div',\n",
              " '17_Industry_Portfolios_daily',\n",
              " '30_Industry_Portfolios',\n",
              " '30_Industry_Portfolios_Wout_Div',\n",
              " '30_Industry_Portfolios_daily',\n",
              " '38_Industry_Portfolios',\n",
              " '38_Industry_Portfolios_Wout_Div',\n",
              " '38_Industry_Portfolios_daily',\n",
              " '48_Industry_Portfolios',\n",
              " '48_Industry_Portfolios_Wout_Div',\n",
              " '48_Industry_Portfolios_daily',\n",
              " '49_Industry_Portfolios',\n",
              " '49_Industry_Portfolios_Wout_Div',\n",
              " '49_Industry_Portfolios_daily',\n",
              " 'ME_Breakpoints',\n",
              " 'BE-ME_Breakpoints',\n",
              " 'OP_Breakpoints',\n",
              " 'INV_Breakpoints',\n",
              " 'E-P_Breakpoints',\n",
              " 'CF-P_Breakpoints',\n",
              " 'D-P_Breakpoints',\n",
              " 'Prior_2-12_Breakpoints',\n",
              " 'Developed_3_Factors',\n",
              " 'Developed_3_Factors_Daily',\n",
              " 'Developed_ex_US_3_Factors',\n",
              " 'Developed_ex_US_3_Factors_Daily',\n",
              " 'Europe_3_Factors',\n",
              " 'Europe_3_Factors_Daily',\n",
              " 'Japan_3_Factors',\n",
              " 'Japan_3_Factors_Daily',\n",
              " 'Asia_Pacific_ex_Japan_3_Factors',\n",
              " 'Asia_Pacific_ex_Japan_3_Factors_Daily',\n",
              " 'North_America_3_Factors',\n",
              " 'North_America_3_Factors_Daily',\n",
              " 'Developed_5_Factors',\n",
              " 'Developed_5_Factors_Daily',\n",
              " 'Developed_ex_US_5_Factors',\n",
              " 'Developed_ex_US_5_Factors_Daily',\n",
              " 'Europe_5_Factors',\n",
              " 'Europe_5_Factors_Daily',\n",
              " 'Japan_5_Factors',\n",
              " 'Japan_5_Factors_Daily',\n",
              " 'Asia_Pacific_ex_Japan_5_Factors',\n",
              " 'Asia_Pacific_ex_Japan_5_Factors_Daily',\n",
              " 'North_America_5_Factors',\n",
              " 'North_America_5_Factors_Daily',\n",
              " 'Developed_Mom_Factor',\n",
              " 'Developed_Mom_Factor_Daily',\n",
              " 'Developed_ex_US_Mom_Factor',\n",
              " 'Developed_ex_US_Mom_Factor_Daily',\n",
              " 'Europe_Mom_Factor',\n",
              " 'Europe_Mom_Factor_Daily',\n",
              " 'Japan_Mom_Factor',\n",
              " 'Japan_Mom_Factor_Daily',\n",
              " 'Asia_Pacific_ex_Japan_MOM_Factor',\n",
              " 'Asia_Pacific_ex_Japan_MOM_Factor_Daily',\n",
              " 'North_America_Mom_Factor',\n",
              " 'North_America_Mom_Factor_Daily',\n",
              " 'Developed_6_Portfolios_ME_BE-ME',\n",
              " 'Developed_6_Portfolios_ME_BE-ME_daily',\n",
              " 'Developed_ex_US_6_Portfolios_ME_BE-ME',\n",
              " 'Developed_ex_US_6_Portfolios_ME_BE-ME_daily',\n",
              " 'Europe_6_Portfolios_ME_BE-ME',\n",
              " 'Europe_6_Portfolios_ME_BE-ME_daily',\n",
              " 'Japan_6_Portfolios_ME_BE-ME',\n",
              " 'Japan_6_Portfolios_ME_BE-ME_daily',\n",
              " 'Asia_Pacific_ex_Japan_6_Portfolios_ME_BE-ME',\n",
              " 'Asia_Pacific_ex_Japan_6_Portfolios_ME_BE-ME_daily',\n",
              " 'North_America_6_Portfolios_ME_BE-ME',\n",
              " 'North_America_6_Portfolios_ME_BE-ME_daily',\n",
              " 'Developed_25_Portfolios_ME_BE-ME',\n",
              " 'Developed_25_Portfolios_ME_BE-ME_daily',\n",
              " 'Developed_ex_US_25_Portfolios_ME_BE-ME',\n",
              " 'Developed_ex_US_25_Portfolios_ME_BE-ME_daily',\n",
              " 'Europe_25_Portfolios_ME_BE-ME',\n",
              " 'Europe_25_Portfolios_ME_BE-ME_daily',\n",
              " 'Japan_25_Portfolios_ME_BE-ME',\n",
              " 'Japan_25_Portfolios_ME_BE-ME_daily',\n",
              " 'Asia_Pacific_ex_Japan_25_Portfolios_ME_BE-ME',\n",
              " 'Asia_Pacific_ex_Japan_25_Portfolios_ME_BE-ME_daily',\n",
              " 'North_America_25_Portfolios_ME_BE-ME',\n",
              " 'North_America_25_Portfolios_ME_BE-ME_daily',\n",
              " 'Developed_6_Portfolios_ME_OP',\n",
              " 'Developed_6_Portfolios_ME_OP_Daily',\n",
              " 'Developed_ex_US_6_Portfolios_ME_OP',\n",
              " 'Developed_ex_US_6_Portfolios_ME_OP_Daily',\n",
              " 'Europe_6_Portfolios_ME_OP',\n",
              " 'Europe_6_Portfolios_ME_OP_Daily',\n",
              " 'Japan_6_Portfolios_ME_OP',\n",
              " 'Japan_6_Portfolios_ME_OP_Daily',\n",
              " 'Asia_Pacific_ex_Japan_6_Portfolios_ME_OP',\n",
              " 'Asia_Pacific_ex_Japan_6_Portfolios_ME_OP_Daily',\n",
              " 'North_America_6_Portfolios_ME_OP',\n",
              " 'North_America_6_Portfolios_ME_OP_Daily',\n",
              " 'Developed_25_Portfolios_ME_OP',\n",
              " 'Developed_25_Portfolios_ME_OP_Daily',\n",
              " 'Developed_ex_US_25_Portfolios_ME_OP',\n",
              " 'Developed_ex_US_25_Portfolios_ME_OP_Daily',\n",
              " 'Europe_25_Portfolios_ME_OP',\n",
              " 'Europe_25_Portfolios_ME_OP_Daily',\n",
              " 'Japan_25_Portfolios_ME_OP',\n",
              " 'Japan_25_Portfolios_ME_OP_Daily',\n",
              " 'Asia_Pacific_ex_Japan_25_Portfolios_ME_OP',\n",
              " 'Asia_Pacific_ex_Japan_25_Portfolios_ME_OP_Daily',\n",
              " 'North_America_25_Portfolios_ME_OP',\n",
              " 'North_America_25_Portfolios_ME_OP_Daily',\n",
              " 'Developed_6_Portfolios_ME_INV',\n",
              " 'Developed_6_Portfolios_ME_INV_Daily',\n",
              " 'Developed_ex_US_6_Portfolios_ME_INV',\n",
              " 'Developed_ex_US_6_Portfolios_ME_INV_Daily',\n",
              " 'Europe_6_Portfolios_ME_INV',\n",
              " 'Europe_6_Portfolios_ME_INV_Daily',\n",
              " 'Japan_6_Portfolios_ME_INV',\n",
              " 'Japan_6_Portfolios_ME_INV_Daily',\n",
              " 'Asia_Pacific_ex_Japan_6_Portfolios_ME_INV',\n",
              " 'Asia_Pacific_ex_Japan_6_Portfolios_ME_INV_Daily',\n",
              " 'North_America_6_Portfolios_ME_INV',\n",
              " 'North_America_6_Portfolios_ME_INV_Daily',\n",
              " 'Developed_25_Portfolios_ME_INV',\n",
              " 'Developed_25_Portfolios_ME_INV_Daily',\n",
              " 'Developed_ex_US_25_Portfolios_ME_INV',\n",
              " 'Developed_ex_US_25_Portfolios_ME_INV_Daily',\n",
              " 'Europe_25_Portfolios_ME_INV',\n",
              " 'Europe_25_Portfolios_ME_INV_Daily',\n",
              " 'Japan_25_Portfolios_ME_INV',\n",
              " 'Japan_25_Portfolios_ME_INV_Daily',\n",
              " 'Asia_Pacific_ex_Japan_25_Portfolios_ME_INV',\n",
              " 'Asia_Pacific_ex_Japan_25_Portfolios_ME_INV_Daily',\n",
              " 'North_America_25_Portfolios_ME_INV',\n",
              " 'North_America_25_Portfolios_ME_INV_Daily',\n",
              " 'Developed_6_Portfolios_ME_Prior_12_2',\n",
              " 'Developed_6_Portfolios_ME_Prior_250_20_daily',\n",
              " 'Developed_ex_US_6_Portfolios_ME_Prior_12_2',\n",
              " 'Developed_ex_US_6_Portfolios_ME_Prior_250_20_daily',\n",
              " 'Europe_6_Portfolios_ME_Prior_12_2',\n",
              " 'Europe_6_Portfolios_ME_Prior_250_20_daily',\n",
              " 'Japan_6_Portfolios_ME_Prior_12_2',\n",
              " 'Japan_6_Portfolios_ME_Prior_250_20_daily',\n",
              " 'Asia_Pacific_ex_Japan_6_Portfolios_ME_Prior_12_2',\n",
              " 'Asia_Pacific_ex_Japan_6_Portfolios_ME_Prior_250_20_daily',\n",
              " 'North_America_6_Portfolios_ME_Prior_12_2',\n",
              " 'North_America_6_Portfolios_ME_Prior_250_20_daily',\n",
              " 'Developed_25_Portfolios_ME_Prior_12_2',\n",
              " 'Developed_25_Portfolios_ME_Prior_250_20_daily',\n",
              " 'Developed_ex_US_25_Portfolios_ME_Prior_12_2',\n",
              " 'Developed_ex_US_25_Portfolios_ME_Prior_250_20_daily',\n",
              " 'Europe_25_Portfolios_ME_Prior_12_2',\n",
              " 'Europe_25_Portfolios_ME_Prior_250_20_daily',\n",
              " 'Japan_25_Portfolios_ME_Prior_12_2',\n",
              " 'Japan_25_Portfolios_ME_Prior_250_20_daily',\n",
              " 'Asia_Pacific_ex_Japan_25_Portfolios_ME_Prior_12_2',\n",
              " 'Asia_Pacific_ex_Japan_25_Portfolios_ME_Prior_250_20_daily',\n",
              " 'North_America_25_Portfolios_ME_Prior_12_2',\n",
              " 'North_America_25_Portfolios_ME_Prior_250_20_daily',\n",
              " 'Developed_32_Portfolios_ME_BE-ME_OP_2x4x4',\n",
              " 'Developed_ex_US_32_Portfolios_ME_BE-ME_OP_2x4x4',\n",
              " 'Europe_32_Portfolios_ME_BE-ME_OP_2x4x4',\n",
              " 'Japan_32_Portfolios_ME_BE-ME_OP_2x4x4',\n",
              " 'Asia_Pacific_ex_Japan_32_Portfolios_ME_BE-ME_OP_2x4x4',\n",
              " 'North_America_32_Portfolios_ME_BE-ME_OP_2x4x4',\n",
              " 'Developed_32_Portfolios_ME_BE-ME_INV(TA)_2x4x4',\n",
              " 'Developed_ex_US_32_Portfolios_ME_BE-ME_INV(TA)_2x4x4',\n",
              " 'Europe_32_Portfolios_ME_BE-ME_INV(TA)_2x4x4',\n",
              " 'Japan_32_Portfolios_ME_BE-ME_INV(TA)_2x4x4',\n",
              " 'Asia_Pacific_ex_Japan_32_Portfolios_ME_BE-ME_INV(TA)_2x4x4',\n",
              " 'North_America_32_Portfolios_ME_BE-ME_INV(TA)_2x4x4',\n",
              " 'Developed_32_Portfolios_ME_INV(TA)_OP_2x4x4',\n",
              " 'Developed_ex_US_32_Portfolios_ME_INV(TA)_OP_2x4x4',\n",
              " 'Europe_32_Portfolios_ME_INV(TA)_OP_2x4x4',\n",
              " 'Japan_32_Portfolios_ME_INV(TA)_OP_2x4x4',\n",
              " 'Asia_Pacific_ex_Japan_32_Portfolios_ME_INV(TA)_OP_2x4x4',\n",
              " 'North_America_32_Portfolios_ME_INV(TA)_OP_2x4x4',\n",
              " 'Emerging_5_Factors',\n",
              " 'Emerging_MOM_Factor',\n",
              " 'Emerging_Markets_6_Portfolios_ME_BE-ME',\n",
              " 'Emerging_Markets_6_Portfolios_ME_OP',\n",
              " 'Emerging_Markets_6_Portfolios_ME_INV',\n",
              " 'Emerging_Markets_6_Portfolios_ME_Prior_12_2',\n",
              " 'Emerging_Markets_4_Portfolios_BE-ME_OP',\n",
              " 'Emerging_Markets_4_Portfolios_OP_INV',\n",
              " 'Emerging_Markets_4_Portfolios_BE-ME_INV']"
            ]
          },
          "metadata": {},
          "execution_count": 28
        }
      ]
    },
    {
      "cell_type": "code",
      "source": [
        "ff = pdr.get_data_famafrench(\n",
        "'F-F_Research_Data_Factors_daily',\n",
        "start='1993',\n",
        "session=session\n",
        ")"
      ],
      "metadata": {
        "id": "5dwS9bMg6n-b"
      },
      "execution_count": 29,
      "outputs": []
    },
    {
      "cell_type": "code",
      "source": [
        "ff = ff[0] / 100"
      ],
      "metadata": {
        "id": "caBQyMkS7IAI"
      },
      "execution_count": 30,
      "outputs": []
    },
    {
      "cell_type": "markdown",
      "source": [
        "Now we will add ff data into the returns dataframe of All Weather Portfolio returns"
      ],
      "metadata": {
        "id": "pXkftKUq7Y7Y"
      }
    },
    {
      "cell_type": "code",
      "source": [
        "weighted_returns_full_portfolio\n",
        "df001= ff.merge(weighted_returns_full_portfolio.to_frame(), left_index=True, right_index=True)\n",
        "df001.columns =['Mkt-RF', 'SMB', 'HML', 'RF', 'WEIGHTEDR']\n",
        "df001.head()"
      ],
      "metadata": {
        "colab": {
          "base_uri": "https://localhost:8080/",
          "height": 238
        },
        "id": "CJonoYEZIMgS",
        "outputId": "6aa83cf0-6229-409b-864b-babe3a4d3f7d"
      },
      "execution_count": 31,
      "outputs": [
        {
          "output_type": "execute_result",
          "data": {
            "text/html": [
              "<div>\n",
              "<style scoped>\n",
              "    .dataframe tbody tr th:only-of-type {\n",
              "        vertical-align: middle;\n",
              "    }\n",
              "\n",
              "    .dataframe tbody tr th {\n",
              "        vertical-align: top;\n",
              "    }\n",
              "\n",
              "    .dataframe thead th {\n",
              "        text-align: right;\n",
              "    }\n",
              "</style>\n",
              "<table border=\"1\" class=\"dataframe\">\n",
              "  <thead>\n",
              "    <tr style=\"text-align: right;\">\n",
              "      <th></th>\n",
              "      <th>Mkt-RF</th>\n",
              "      <th>SMB</th>\n",
              "      <th>HML</th>\n",
              "      <th>RF</th>\n",
              "      <th>WEIGHTEDR</th>\n",
              "    </tr>\n",
              "    <tr>\n",
              "      <th>Date</th>\n",
              "      <th></th>\n",
              "      <th></th>\n",
              "      <th></th>\n",
              "      <th></th>\n",
              "      <th></th>\n",
              "    </tr>\n",
              "  </thead>\n",
              "  <tbody>\n",
              "    <tr>\n",
              "      <th>2004-11-19</th>\n",
              "      <td>-0.0111</td>\n",
              "      <td>-0.0020</td>\n",
              "      <td>0.0076</td>\n",
              "      <td>0.0001</td>\n",
              "      <td>-0.0051</td>\n",
              "    </tr>\n",
              "    <tr>\n",
              "      <th>2004-11-22</th>\n",
              "      <td>0.0060</td>\n",
              "      <td>0.0042</td>\n",
              "      <td>0.0043</td>\n",
              "      <td>0.0001</td>\n",
              "      <td>0.0030</td>\n",
              "    </tr>\n",
              "    <tr>\n",
              "      <th>2004-11-23</th>\n",
              "      <td>0.0006</td>\n",
              "      <td>0.0028</td>\n",
              "      <td>0.0037</td>\n",
              "      <td>0.0001</td>\n",
              "      <td>-0.0005</td>\n",
              "    </tr>\n",
              "    <tr>\n",
              "      <th>2004-11-24</th>\n",
              "      <td>0.0047</td>\n",
              "      <td>0.0029</td>\n",
              "      <td>0.0012</td>\n",
              "      <td>0.0001</td>\n",
              "      <td>0.0022</td>\n",
              "    </tr>\n",
              "    <tr>\n",
              "      <th>2004-11-26</th>\n",
              "      <td>0.0012</td>\n",
              "      <td>0.0016</td>\n",
              "      <td>0.0020</td>\n",
              "      <td>0.0001</td>\n",
              "      <td>-0.0022</td>\n",
              "    </tr>\n",
              "  </tbody>\n",
              "</table>\n",
              "</div>"
            ],
            "text/plain": [
              "            Mkt-RF     SMB    HML     RF  WEIGHTEDR\n",
              "Date                                               \n",
              "2004-11-19 -0.0111 -0.0020 0.0076 0.0001    -0.0051\n",
              "2004-11-22  0.0060  0.0042 0.0043 0.0001     0.0030\n",
              "2004-11-23  0.0006  0.0028 0.0037 0.0001    -0.0005\n",
              "2004-11-24  0.0047  0.0029 0.0012 0.0001     0.0022\n",
              "2004-11-26  0.0012  0.0016 0.0020 0.0001    -0.0022"
            ]
          },
          "metadata": {},
          "execution_count": 31
        }
      ]
    },
    {
      "cell_type": "markdown",
      "source": [
        "Adjusted Returns (r-rf)"
      ],
      "metadata": {
        "id": "K7vuKcEJLVcI"
      }
    },
    {
      "cell_type": "code",
      "source": [
        "df001['RETURN_RF'] = df001['WEIGHTEDR'] - df001['RF']\n",
        "df001.head()\n",
        "df001['RETURN_RF']"
      ],
      "metadata": {
        "colab": {
          "base_uri": "https://localhost:8080/",
          "height": 0
        },
        "id": "j6WKhjHPK1kJ",
        "outputId": "06ebed6d-afba-46ef-ae93-5e8c3461d3b9"
      },
      "execution_count": 32,
      "outputs": [
        {
          "output_type": "execute_result",
          "data": {
            "text/plain": [
              "Date\n",
              "2004-11-19   -0.0051\n",
              "2004-11-22    0.0029\n",
              "2004-11-23   -0.0005\n",
              "2004-11-24    0.0021\n",
              "2004-11-26   -0.0022\n",
              "               ...  \n",
              "2021-10-25    0.0025\n",
              "2021-10-26    0.0012\n",
              "2021-10-27    0.0053\n",
              "2021-10-28    0.0004\n",
              "2021-10-29   -0.0001\n",
              "Name: RETURN_RF, Length: 4266, dtype: float64"
            ]
          },
          "metadata": {},
          "execution_count": 32
        }
      ]
    },
    {
      "cell_type": "markdown",
      "source": [
        "Calculating the **Sharpe Ratio** with Full Sample of All Weather Portfolio:"
      ],
      "metadata": {
        "id": "OnxoI7buJ7MW"
      }
    },
    {
      "cell_type": "code",
      "source": [
        "avg_returns_allweather = 252 * df001['RETURN_RF'].mean()\n",
        "vol_allweather = sd_full_portfolio\n",
        "sr_allweather = avg_returns_allweather / sd_full_portfolio\n",
        "sr_allweather"
      ],
      "metadata": {
        "colab": {
          "base_uri": "https://localhost:8080/",
          "height": 0
        },
        "id": "bYEcrQ6ELbAO",
        "outputId": "488613db-e34e-4af9-f5f8-383c7e8808b9"
      },
      "execution_count": 33,
      "outputs": [
        {
          "output_type": "execute_result",
          "data": {
            "text/plain": [
              "0.976783506158298"
            ]
          },
          "metadata": {},
          "execution_count": 33
        }
      ]
    },
    {
      "cell_type": "markdown",
      "source": [
        "**60-40 Portfolio Sharpe Ratio**"
      ],
      "metadata": {
        "id": "gBhyJPixMTKm"
      }
    },
    {
      "cell_type": "code",
      "source": [
        "weighted_returns_second_port\n",
        "df002= ff.merge(weighted_returns_second_port.to_frame(), left_index=True, right_index=True)\n",
        "df002.columns =['Mkt-RF', 'SMB', 'HML', 'RF', 'WEIGHTEDR']\n",
        "df002.head()"
      ],
      "metadata": {
        "colab": {
          "base_uri": "https://localhost:8080/",
          "height": 238
        },
        "id": "Jmi1jnv1MX9H",
        "outputId": "37c1d0d3-1019-4826-c15b-9240f8533fe4"
      },
      "execution_count": 34,
      "outputs": [
        {
          "output_type": "execute_result",
          "data": {
            "text/html": [
              "<div>\n",
              "<style scoped>\n",
              "    .dataframe tbody tr th:only-of-type {\n",
              "        vertical-align: middle;\n",
              "    }\n",
              "\n",
              "    .dataframe tbody tr th {\n",
              "        vertical-align: top;\n",
              "    }\n",
              "\n",
              "    .dataframe thead th {\n",
              "        text-align: right;\n",
              "    }\n",
              "</style>\n",
              "<table border=\"1\" class=\"dataframe\">\n",
              "  <thead>\n",
              "    <tr style=\"text-align: right;\">\n",
              "      <th></th>\n",
              "      <th>Mkt-RF</th>\n",
              "      <th>SMB</th>\n",
              "      <th>HML</th>\n",
              "      <th>RF</th>\n",
              "      <th>WEIGHTEDR</th>\n",
              "    </tr>\n",
              "    <tr>\n",
              "      <th>Date</th>\n",
              "      <th></th>\n",
              "      <th></th>\n",
              "      <th></th>\n",
              "      <th></th>\n",
              "      <th></th>\n",
              "    </tr>\n",
              "  </thead>\n",
              "  <tbody>\n",
              "    <tr>\n",
              "      <th>2002-07-31</th>\n",
              "      <td>0.0065</td>\n",
              "      <td>-0.0247</td>\n",
              "      <td>-0.0016</td>\n",
              "      <td>0.0001</td>\n",
              "      <td>0.0064</td>\n",
              "    </tr>\n",
              "    <tr>\n",
              "      <th>2002-08-01</th>\n",
              "      <td>-0.0268</td>\n",
              "      <td>0.0146</td>\n",
              "      <td>0.0103</td>\n",
              "      <td>0.0001</td>\n",
              "      <td>-0.0134</td>\n",
              "    </tr>\n",
              "    <tr>\n",
              "      <th>2002-08-02</th>\n",
              "      <td>-0.0236</td>\n",
              "      <td>-0.0030</td>\n",
              "      <td>-0.0072</td>\n",
              "      <td>0.0001</td>\n",
              "      <td>-0.0094</td>\n",
              "    </tr>\n",
              "    <tr>\n",
              "      <th>2002-08-05</th>\n",
              "      <td>-0.0334</td>\n",
              "      <td>0.0109</td>\n",
              "      <td>0.0045</td>\n",
              "      <td>0.0001</td>\n",
              "      <td>-0.0191</td>\n",
              "    </tr>\n",
              "    <tr>\n",
              "      <th>2002-08-06</th>\n",
              "      <td>0.0303</td>\n",
              "      <td>0.0020</td>\n",
              "      <td>-0.0052</td>\n",
              "      <td>0.0001</td>\n",
              "      <td>0.0168</td>\n",
              "    </tr>\n",
              "  </tbody>\n",
              "</table>\n",
              "</div>"
            ],
            "text/plain": [
              "            Mkt-RF     SMB     HML     RF  WEIGHTEDR\n",
              "Date                                                \n",
              "2002-07-31  0.0065 -0.0247 -0.0016 0.0001     0.0064\n",
              "2002-08-01 -0.0268  0.0146  0.0103 0.0001    -0.0134\n",
              "2002-08-02 -0.0236 -0.0030 -0.0072 0.0001    -0.0094\n",
              "2002-08-05 -0.0334  0.0109  0.0045 0.0001    -0.0191\n",
              "2002-08-06  0.0303  0.0020 -0.0052 0.0001     0.0168"
            ]
          },
          "metadata": {},
          "execution_count": 34
        }
      ]
    },
    {
      "cell_type": "code",
      "source": [
        "df002['RETURN_RF'] = df002['WEIGHTEDR'] - df002['RF']\n",
        "df002.head()\n",
        "df002['RETURN_RF']"
      ],
      "metadata": {
        "colab": {
          "base_uri": "https://localhost:8080/",
          "height": 0
        },
        "id": "DKSdGDndM05L",
        "outputId": "6f9d715b-c2bf-4350-b95e-4f8e14b8c413"
      },
      "execution_count": 35,
      "outputs": [
        {
          "output_type": "execute_result",
          "data": {
            "text/plain": [
              "Date\n",
              "2002-07-31    0.0063\n",
              "2002-08-01   -0.0134\n",
              "2002-08-02   -0.0094\n",
              "2002-08-05   -0.0192\n",
              "2002-08-06    0.0167\n",
              "               ...  \n",
              "2021-10-25    0.0026\n",
              "2021-10-26    0.0038\n",
              "2021-10-27    0.0046\n",
              "2021-10-28    0.0044\n",
              "2021-10-29    0.0024\n",
              "Name: RETURN_RF, Length: 4848, dtype: float64"
            ]
          },
          "metadata": {},
          "execution_count": 35
        }
      ]
    },
    {
      "cell_type": "markdown",
      "source": [
        "Calculating the **Sharpe Ratio** with Full Sample of 60-40 Portfolio\n",
        "\n",
        "\n",
        "\n"
      ],
      "metadata": {
        "id": "SCYaubq7WiXZ"
      }
    },
    {
      "cell_type": "code",
      "source": [
        "avg_returns_secondport = 252 * df002['RETURN_RF'].mean()\n",
        "vol_secondport = sd_full_portfolio2\n",
        "sr_secondport = avg_returns_secondport / vol_secondport\n",
        "sr_secondport"
      ],
      "metadata": {
        "colab": {
          "base_uri": "https://localhost:8080/",
          "height": 0
        },
        "id": "P0BYLKxfM6TN",
        "outputId": "c872d5a4-2271-40dc-9810-5df7edbd2f27"
      },
      "execution_count": 36,
      "outputs": [
        {
          "output_type": "execute_result",
          "data": {
            "text/plain": [
              "0.8686578500722828"
            ]
          },
          "metadata": {},
          "execution_count": 36
        }
      ]
    },
    {
      "cell_type": "markdown",
      "source": [
        "**All Equity Portfolio Sharpe Ratio**"
      ],
      "metadata": {
        "id": "6uui6XKWNMCN"
      }
    },
    {
      "cell_type": "code",
      "source": [
        "allequity_returns\n",
        "df003= ff.merge(allequity_returns, left_index=True, right_index=True)\n",
        "df003.columns =['Mkt-RF', 'SMB', 'HML', 'RF', 'WEIGHTEDR']\n",
        "df003.head()"
      ],
      "metadata": {
        "colab": {
          "base_uri": "https://localhost:8080/",
          "height": 238
        },
        "id": "hXGzY8ddNVkr",
        "outputId": "cff0f45d-df50-4b72-b0dc-e70ed5903209"
      },
      "execution_count": 37,
      "outputs": [
        {
          "output_type": "execute_result",
          "data": {
            "text/html": [
              "<div>\n",
              "<style scoped>\n",
              "    .dataframe tbody tr th:only-of-type {\n",
              "        vertical-align: middle;\n",
              "    }\n",
              "\n",
              "    .dataframe tbody tr th {\n",
              "        vertical-align: top;\n",
              "    }\n",
              "\n",
              "    .dataframe thead th {\n",
              "        text-align: right;\n",
              "    }\n",
              "</style>\n",
              "<table border=\"1\" class=\"dataframe\">\n",
              "  <thead>\n",
              "    <tr style=\"text-align: right;\">\n",
              "      <th></th>\n",
              "      <th>Mkt-RF</th>\n",
              "      <th>SMB</th>\n",
              "      <th>HML</th>\n",
              "      <th>RF</th>\n",
              "      <th>WEIGHTEDR</th>\n",
              "    </tr>\n",
              "    <tr>\n",
              "      <th>Date</th>\n",
              "      <th></th>\n",
              "      <th></th>\n",
              "      <th></th>\n",
              "      <th></th>\n",
              "      <th></th>\n",
              "    </tr>\n",
              "  </thead>\n",
              "  <tbody>\n",
              "    <tr>\n",
              "      <th>1993-02-01</th>\n",
              "      <td>0.0084</td>\n",
              "      <td>-0.0056</td>\n",
              "      <td>0.0023</td>\n",
              "      <td>0.0001</td>\n",
              "      <td>0.0071</td>\n",
              "    </tr>\n",
              "    <tr>\n",
              "      <th>1993-02-02</th>\n",
              "      <td>0.0014</td>\n",
              "      <td>0.0012</td>\n",
              "      <td>0.0028</td>\n",
              "      <td>0.0001</td>\n",
              "      <td>0.0021</td>\n",
              "    </tr>\n",
              "    <tr>\n",
              "      <th>1993-02-03</th>\n",
              "      <td>0.0095</td>\n",
              "      <td>-0.0009</td>\n",
              "      <td>0.0027</td>\n",
              "      <td>0.0001</td>\n",
              "      <td>0.0106</td>\n",
              "    </tr>\n",
              "    <tr>\n",
              "      <th>1993-02-04</th>\n",
              "      <td>0.0055</td>\n",
              "      <td>-0.0043</td>\n",
              "      <td>0.0068</td>\n",
              "      <td>0.0001</td>\n",
              "      <td>0.0042</td>\n",
              "    </tr>\n",
              "    <tr>\n",
              "      <th>1993-02-05</th>\n",
              "      <td>-0.0033</td>\n",
              "      <td>-0.0046</td>\n",
              "      <td>0.0065</td>\n",
              "      <td>0.0001</td>\n",
              "      <td>-0.0007</td>\n",
              "    </tr>\n",
              "  </tbody>\n",
              "</table>\n",
              "</div>"
            ],
            "text/plain": [
              "            Mkt-RF     SMB    HML     RF  WEIGHTEDR\n",
              "Date                                               \n",
              "1993-02-01  0.0084 -0.0056 0.0023 0.0001     0.0071\n",
              "1993-02-02  0.0014  0.0012 0.0028 0.0001     0.0021\n",
              "1993-02-03  0.0095 -0.0009 0.0027 0.0001     0.0106\n",
              "1993-02-04  0.0055 -0.0043 0.0068 0.0001     0.0042\n",
              "1993-02-05 -0.0033 -0.0046 0.0065 0.0001    -0.0007"
            ]
          },
          "metadata": {},
          "execution_count": 37
        }
      ]
    },
    {
      "cell_type": "code",
      "source": [
        "df003['RETURN_RF'] = df003['WEIGHTEDR'] - df003['RF']\n",
        "df003.head()\n",
        "df003['RETURN_RF']"
      ],
      "metadata": {
        "colab": {
          "base_uri": "https://localhost:8080/",
          "height": 0
        },
        "id": "PvsqpgZiNsPi",
        "outputId": "b8773407-4b99-4f8d-9d07-15c49bfea53e"
      },
      "execution_count": 38,
      "outputs": [
        {
          "output_type": "execute_result",
          "data": {
            "text/plain": [
              "Date\n",
              "1993-02-01    0.0070\n",
              "1993-02-02    0.0020\n",
              "1993-02-03    0.0105\n",
              "1993-02-04    0.0041\n",
              "1993-02-05   -0.0008\n",
              "               ...  \n",
              "2021-10-25    0.0054\n",
              "2021-10-26    0.0009\n",
              "2021-10-27   -0.0044\n",
              "2021-10-28    0.0096\n",
              "2021-10-29    0.0020\n",
              "Name: RETURN_RF, Length: 7241, dtype: float64"
            ]
          },
          "metadata": {},
          "execution_count": 38
        }
      ]
    },
    {
      "cell_type": "markdown",
      "source": [
        "Calculating the **Sharpe Ratio** with Full Sample of All Equity Portfolio\n"
      ],
      "metadata": {
        "id": "DXVnxxSMW5f4"
      }
    },
    {
      "cell_type": "code",
      "source": [
        "avg_returns_allequity = 252 * df003['RETURN_RF'].mean()\n",
        "vol_allequity = vol_allequity_returns\n",
        "sr_allequity = avg_returns_allequity / vol_allequity\n",
        "sr_allequity"
      ],
      "metadata": {
        "colab": {
          "base_uri": "https://localhost:8080/",
          "height": 0
        },
        "id": "U0vCTPyUNyyG",
        "outputId": "f16560b6-1b02-4612-f5b4-7253cacaf12e"
      },
      "execution_count": 39,
      "outputs": [
        {
          "output_type": "execute_result",
          "data": {
            "text/plain": [
              "0.5106055157216702"
            ]
          },
          "metadata": {},
          "execution_count": 39
        }
      ]
    },
    {
      "cell_type": "markdown",
      "source": [
        "All weather portfolio has the highest Sharpe Ratio among the three, which is a good indication of better return-risk trade-off."
      ],
      "metadata": {
        "id": "YX5BYBlg_46B"
      }
    },
    {
      "cell_type": "markdown",
      "source": [
        "##**Rolling Annual Returns with 252D Windows**##\n"
      ],
      "metadata": {
        "id": "ScU0t3zOONKx"
      }
    },
    {
      "cell_type": "markdown",
      "source": [
        "Cumulative Return for Rolling 1-year periods for All Weather Portfolio"
      ],
      "metadata": {
        "id": "bwDbUnS9Vq58"
      }
    },
    {
      "cell_type": "code",
      "source": [
        "def multi_period_return(period_returns):\n",
        "    return np.prod(period_returns + 1) - 1"
      ],
      "metadata": {
        "id": "sQDVllEzRQko"
      },
      "execution_count": 40,
      "outputs": []
    },
    {
      "cell_type": "code",
      "source": [
        "means = df001['WEIGHTEDR'].rolling('252D').apply(multi_period_return) \n",
        "means.tail()"
      ],
      "metadata": {
        "colab": {
          "base_uri": "https://localhost:8080/",
          "height": 0
        },
        "id": "AO529VHaOPMq",
        "outputId": "65737263-1432-4b7d-8750-eae2a7c64fad"
      },
      "execution_count": 41,
      "outputs": [
        {
          "output_type": "execute_result",
          "data": {
            "text/plain": [
              "Date\n",
              "2021-10-25   0.0243\n",
              "2021-10-26   0.0342\n",
              "2021-10-27   0.0398\n",
              "2021-10-28   0.0422\n",
              "2021-10-29   0.0464\n",
              "Name: WEIGHTEDR, dtype: float64"
            ]
          },
          "metadata": {},
          "execution_count": 41
        }
      ]
    },
    {
      "cell_type": "markdown",
      "source": [
        "Cumulative Return for Rolling 1-year periods for Balanced Portfolio"
      ],
      "metadata": {
        "id": "tSIcrgC_VxOr"
      }
    },
    {
      "cell_type": "code",
      "source": [
        "def multi_period_return(period_returns):\n",
        "    return np.prod(period_returns + 1) - 1"
      ],
      "metadata": {
        "id": "tGoAYS7CVzpV"
      },
      "execution_count": 42,
      "outputs": []
    },
    {
      "cell_type": "code",
      "source": [
        "means1 = df002['WEIGHTEDR'].rolling('252D').apply(multi_period_return) \n",
        "means1.tail()"
      ],
      "metadata": {
        "colab": {
          "base_uri": "https://localhost:8080/",
          "height": 0
        },
        "outputId": "8af30048-3630-484d-d3dd-a3fb55166db2",
        "id": "BxQeM_pKVzpW"
      },
      "execution_count": 43,
      "outputs": [
        {
          "output_type": "execute_result",
          "data": {
            "text/plain": [
              "Date\n",
              "2021-10-25   0.0977\n",
              "2021-10-26   0.1093\n",
              "2021-10-27   0.1114\n",
              "2021-10-28   0.1211\n",
              "2021-10-29   0.1310\n",
              "Name: WEIGHTEDR, dtype: float64"
            ]
          },
          "metadata": {},
          "execution_count": 43
        }
      ]
    },
    {
      "cell_type": "markdown",
      "source": [
        "Cumulative Return for Rolling 1-year periods for All Equity Portfolio"
      ],
      "metadata": {
        "id": "5nzEiTWYWcuo"
      }
    },
    {
      "cell_type": "code",
      "source": [
        "def multi_period_return(period_returns):\n",
        "    return np.prod(period_returns + 1) - 1"
      ],
      "metadata": {
        "id": "OsjHx00zWexn"
      },
      "execution_count": 44,
      "outputs": []
    },
    {
      "cell_type": "code",
      "source": [
        "means2 = df003['WEIGHTEDR'].rolling('252D').apply(multi_period_return) \n",
        "means2.tail()"
      ],
      "metadata": {
        "colab": {
          "base_uri": "https://localhost:8080/",
          "height": 0
        },
        "outputId": "a54a2577-2b69-4791-a958-a9b473592219",
        "id": "_vyleJraWexo"
      },
      "execution_count": 45,
      "outputs": [
        {
          "output_type": "execute_result",
          "data": {
            "text/plain": [
              "Date\n",
              "2021-10-25   0.1716\n",
              "2021-10-26   0.1736\n",
              "2021-10-27   0.1682\n",
              "2021-10-28   0.1845\n",
              "2021-10-29   0.1890\n",
              "Name: WEIGHTEDR, dtype: float64"
            ]
          },
          "metadata": {},
          "execution_count": 45
        }
      ]
    },
    {
      "cell_type": "code",
      "source": [
        "means.mul(100).plot(label='Cumulative Return for Rolling 1-year periods for All Weather Portfolio')\n",
        "means1.mul(100).plot(label='Cumulative Return for Rolling 1-year periods for Balanced Portfolio')\n",
        "means2.mul(100).plot(label='Cumulative Return for Rolling 1-year periods for All Equity Portfolio')\n",
        "plt.legend()\n",
        "plt.show()"
      ],
      "metadata": {
        "colab": {
          "base_uri": "https://localhost:8080/",
          "height": 541
        },
        "outputId": "1aea2fb7-bbcd-4332-a006-d1e28fa1a48f",
        "id": "MyUH1wAvWexp"
      },
      "execution_count": 46,
      "outputs": [
        {
          "output_type": "display_data",
          "data": {
            "image/png": "[encoded data removed]",
            "text/plain": [
              "<Figure size 900x600 with 1 Axes>"
            ]
          },
          "metadata": {
            "needs_background": "light"
          }
        }
      ]
    },
    {
      "cell_type": "markdown",
      "source": [
        "##**Rolling Sharpe Ratio 252 Trading Days**"
      ],
      "metadata": {
        "id": "5D1aDpvPYqRs"
      }
    },
    {
      "cell_type": "markdown",
      "source": [
        "Rolling Sharpe Ratio for All Weather Portfolio"
      ],
      "metadata": {
        "id": "9XBsj958YKBd"
      }
    },
    {
      "cell_type": "code",
      "source": [
        "rolling_sr_allweather= np.sqrt(252) * df001['RETURN_RF'].rolling(252).mean() / df001['RETURN_RF'].rolling(252).std()"
      ],
      "metadata": {
        "id": "xzbL4y8JZAmo"
      },
      "execution_count": 47,
      "outputs": []
    },
    {
      "cell_type": "markdown",
      "source": [
        "Rolling Sharpe Ratio for 60-40 Portfolio"
      ],
      "metadata": {
        "id": "TUEZQPIYYR33"
      }
    },
    {
      "cell_type": "code",
      "source": [
        "rolling_sr_secondport=np.sqrt(252) * df002['RETURN_RF'].rolling(252).mean() / df002['RETURN_RF'].rolling(252).std()\n"
      ],
      "metadata": {
        "id": "euzUD1ola5Nx"
      },
      "execution_count": 48,
      "outputs": []
    },
    {
      "cell_type": "markdown",
      "source": [
        "Rolling Sharpe Ratio for All Equity Portfolio"
      ],
      "metadata": {
        "id": "NakoM7jQYUdy"
      }
    },
    {
      "cell_type": "code",
      "source": [
        "rolling_sr_allequity= np.sqrt(252) * df003['RETURN_RF'].rolling(252).mean() / df003['RETURN_RF'].rolling(252).std()"
      ],
      "metadata": {
        "id": "6B2SpbxUb-9P"
      },
      "execution_count": 49,
      "outputs": []
    },
    {
      "cell_type": "code",
      "source": [
        "rolling_sr_allweather.plot(label='Rolling Sharpe Ratio for All Weather Portfolio')\n",
        "rolling_sr_secondport.plot(label='Rolling Sharpe Ratio for Balanced Portfolio')\n",
        "rolling_sr_allequity.plot(label='Rolling Sharpe Ratio for All Equity Portfolio')\n",
        "plt.title('Rolling Sharpe Ratio')\n",
        "plt.ylabel('Sharpe Ratio')\n",
        "plt.legend()\n",
        "plt.show()"
      ],
      "metadata": {
        "colab": {
          "base_uri": "https://localhost:8080/",
          "height": 573
        },
        "id": "gPtCCaIPSWbX",
        "outputId": "37030f07-6b30-443c-d812-cf994f75ce8f"
      },
      "execution_count": 50,
      "outputs": [
        {
          "output_type": "display_data",
          "data": {
            "image/png": "[encoded data removed]",
            "text/plain": [
              "<Figure size 900x600 with 1 Axes>"
            ]
          },
          "metadata": {
            "needs_background": "light"
          }
        }
      ]
    },
    {
      "cell_type": "markdown",
      "source": [
        "## **Rolling Maximum Draw-Downs**\n"
      ],
      "metadata": {
        "id": "ELRFf-qbe1kl"
      }
    },
    {
      "cell_type": "code",
      "source": [
        "def drawdown(r):\n",
        "    cumprod = (1 + r).cumprod()\n",
        "    return cumprod / (cumprod).cummax() - 1"
      ],
      "metadata": {
        "id": "BrFbAzILfTXy"
      },
      "execution_count": 51,
      "outputs": []
    },
    {
      "cell_type": "code",
      "source": [
        "def max_drawdown(r):\n",
        "    return np.max(np.abs(drawdown(r)))"
      ],
      "metadata": {
        "id": "9P5PRdMVe_kf"
      },
      "execution_count": 52,
      "outputs": []
    },
    {
      "cell_type": "markdown",
      "source": [
        "Rolling Maximum Draw-Down for All Weather Portfolio"
      ],
      "metadata": {
        "id": "gNkv_6BWe64Y"
      }
    },
    {
      "cell_type": "code",
      "source": [
        "max_drawdown(df001['WEIGHTEDR'])"
      ],
      "metadata": {
        "colab": {
          "base_uri": "https://localhost:8080/",
          "height": 0
        },
        "id": "ZFe7kAqofEAQ",
        "outputId": "0c6a6435-c569-4447-9499-ed7dd9609cab"
      },
      "execution_count": 53,
      "outputs": [
        {
          "output_type": "execute_result",
          "data": {
            "text/plain": [
              "0.11760264198033998"
            ]
          },
          "metadata": {},
          "execution_count": 53
        }
      ]
    },
    {
      "cell_type": "markdown",
      "source": [
        "Rolling Maximum Draw-Down for 60-40 Portfolio"
      ],
      "metadata": {
        "id": "gA5kIkmH6uBV"
      }
    },
    {
      "cell_type": "code",
      "source": [
        "max_drawdown(df002['WEIGHTEDR'])"
      ],
      "metadata": {
        "colab": {
          "base_uri": "https://localhost:8080/",
          "height": 0
        },
        "id": "vkNxUYfNfWXt",
        "outputId": "c2e4c968-4da1-48ec-f8ee-e4933562b4dd"
      },
      "execution_count": 54,
      "outputs": [
        {
          "output_type": "execute_result",
          "data": {
            "text/plain": [
              "0.2992281318995852"
            ]
          },
          "metadata": {},
          "execution_count": 54
        }
      ]
    },
    {
      "cell_type": "markdown",
      "source": [
        "Rolling Maximum Draw-Down for All Equity Portfolio"
      ],
      "metadata": {
        "id": "xkfAHJpg6tVW"
      }
    },
    {
      "cell_type": "code",
      "source": [
        "max_drawdown(df003['WEIGHTEDR'])"
      ],
      "metadata": {
        "colab": {
          "base_uri": "https://localhost:8080/",
          "height": 0
        },
        "id": "9OqsevMJfZer",
        "outputId": "bd970d33-2e0e-475e-a964-307897b7aa41"
      },
      "execution_count": 55,
      "outputs": [
        {
          "output_type": "execute_result",
          "data": {
            "text/plain": [
              "0.5518945881409234"
            ]
          },
          "metadata": {},
          "execution_count": 55
        }
      ]
    },
    {
      "cell_type": "markdown",
      "source": [
        "All weather portfolio has the lowest MDD, while all equity portfolio has the highest MDD. This suggests that the volatility is controlled in the all weather portfolio."
      ],
      "metadata": {
        "id": "ThFQquLF_n-L"
      }
    },
    {
      "cell_type": "markdown",
      "source": [
        "## **Comparing Daily Rebalancing with Annual Rebalancing of the Portfolios**"
      ],
      "metadata": {
        "id": "wDDfHJFshBMm"
      }
    },
    {
      "cell_type": "markdown",
      "source": [
        "Annual Rebalancing of All Weather Portfolio\n"
      ],
      "metadata": {
        "id": "dzb0hD67hgXK"
      }
    },
    {
      "cell_type": "code",
      "source": [
        "reb_allweather= abcd.groupby(pd.Grouper(freq='Y')).apply(lambda x: (1 + x).cumprod().shift().fillna(1) * a)"
      ],
      "metadata": {
        "id": "CxlAHv8LhA5s"
      },
      "execution_count": 56,
      "outputs": []
    },
    {
      "cell_type": "code",
      "source": [
        "w_d_y1 = reb_allweather.div(reb_allweather.sum(axis=1), axis=0)"
      ],
      "metadata": {
        "id": "auLTKMX2hlvM"
      },
      "execution_count": 57,
      "outputs": []
    },
    {
      "cell_type": "code",
      "source": [
        "rp_d_y1 = (abcd * w_d_y1).sum(axis=1)\n",
        "cumulative_ret1.plot(label='Daily Returns with Daily Rebalancing')\n",
        "rp_d_y1.add(1).cumprod().plot(label='Daily Returns with Annual Rebalancing')\n",
        "plt.legend()\n",
        "plt.show()"
      ],
      "metadata": {
        "colab": {
          "base_uri": "https://localhost:8080/",
          "height": 541
        },
        "id": "Jq5x0aOOh4w8",
        "outputId": "d1cf59b1-5b94-4a3a-de6e-5041e11c1109"
      },
      "execution_count": 58,
      "outputs": [
        {
          "output_type": "display_data",
          "data": {
            "image/png": "[encoded data removed]",
            "text/plain": [
              "<Figure size 900x600 with 1 Axes>"
            ]
          },
          "metadata": {
            "needs_background": "light"
          }
        }
      ]
    },
    {
      "cell_type": "markdown",
      "source": [
        "Annual Rebalancing of 60-40 Portfolio\n"
      ],
      "metadata": {
        "id": "jQZexpEUiLxX"
      }
    },
    {
      "cell_type": "code",
      "source": [
        "reb_secondport= returns1.groupby(pd.Grouper(freq='Y')).apply(lambda x: (1 + x).cumprod().shift().fillna(1) * w1)"
      ],
      "metadata": {
        "id": "f7IdiHAriNav"
      },
      "execution_count": 59,
      "outputs": []
    },
    {
      "cell_type": "code",
      "source": [
        "w_d_y2 = reb_secondport.div(reb_secondport.sum(axis=1), axis=0)"
      ],
      "metadata": {
        "id": "iTkrDPqLiNaw"
      },
      "execution_count": 60,
      "outputs": []
    },
    {
      "cell_type": "code",
      "source": [
        "rp_d_y2 = (returns1 * w_d_y2).sum(axis=1)\n",
        "cumulative_ret2.plot(label='Daily Returns with Daily Rebalancing')\n",
        "rp_d_y2.add(1).cumprod().plot(label='Daily Returns with Annual Rebalancing')\n",
        "plt.legend()\n",
        "plt.show()\n"
      ],
      "metadata": {
        "colab": {
          "base_uri": "https://localhost:8080/",
          "height": 541
        },
        "outputId": "756d0f26-cd41-41a3-b125-6823abe6361a",
        "id": "5VtgCRkviNaw"
      },
      "execution_count": 61,
      "outputs": [
        {
          "output_type": "display_data",
          "data": {
            "image/png": "[encoded data removed]",
            "text/plain": [
              "<Figure size 900x600 with 1 Axes>"
            ]
          },
          "metadata": {
            "needs_background": "light"
          }
        }
      ]
    },
    {
      "cell_type": "markdown",
      "source": [
        "Both rebalancing graphs represent the same picture. The daily returns for annual rebalancing and daily rebalancing seem to overlap on most of its path. This suggests that daily rebalancing of portfolios is not required. Moreover, it is expensive and time consuming to balance the portfolio everyday. And transaction costs and bid-ask spread hurt the earnings for the investors. \n",
        "\n",
        "On the other hand,  if the portfolio is rarely rebalanced, then it would fail to detect the overwight/underwight assets and the overall returns of the portfolio would fall. Ultimately, also start losing the benefit of minimum variance and risk adjusted returns.\n",
        "\n",
        "Both daily rebalancing and annual rebalancing have their pros and cons, although, the trade-off is very small. So, annual rebalancing is more practical to follow. "
      ],
      "metadata": {
        "id": "HmISPJkeIV-s"
      }
    },
    {
      "cell_type": "markdown",
      "source": [
        "## **Levering the Balanced and All Weather Portfolios**"
      ],
      "metadata": {
        "id": "4VBeMSUqoJD7"
      }
    },
    {
      "cell_type": "markdown",
      "source": [
        "We lever the balanced and all weather portfolios to have the same full-sample annualized return as the 100% equity portfolio.\n",
        "The following formula is used for the same:\n",
        "\n",
        "\n",
        "\n",
        "> leveraged portfolio return = return on investment +(( debt/equity) * (return on investment - cost of debt))\n",
        "\n",
        "\n",
        "\n",
        "\n",
        "\n",
        "where,\n",
        "\n",
        "\n",
        "\n",
        "*leveraged portfolio return= full-sample annualized  cumulative return of the 100% equity portfolio*\n",
        "\n",
        "*return on investment = return on All Weather Portfolio/ Balanced Portfolio*\n",
        "\n",
        "*cost of debt= risk free rate*\n"
      ],
      "metadata": {
        "id": "XhIuhrSooVJK"
      }
    },
    {
      "cell_type": "markdown",
      "source": [
        "Annualized cumulative return for All Weather Portfolio = 0.072"
      ],
      "metadata": {
        "id": "iSKiulXyekr0"
      }
    },
    {
      "cell_type": "code",
      "source": [
        "cumulative_ret1[-1]\n",
        "### ann_cumr_allweath = cumulative_ret1[-1]^(1/(2021-2004))-1\n",
        "### ann_cumr_allweath= (3.479 ^(0.056))-1\n",
        "### ann_cumr_allweath = 0.072"
      ],
      "metadata": {
        "colab": {
          "base_uri": "https://localhost:8080/",
          "height": 0
        },
        "id": "A61XCn2tKEEx",
        "outputId": "f669200d-0b8b-4f2d-f1a5-4175fc732a46"
      },
      "execution_count": 62,
      "outputs": [
        {
          "output_type": "execute_result",
          "data": {
            "text/plain": [
              "3.4752635108892194"
            ]
          },
          "metadata": {},
          "execution_count": 62
        }
      ]
    },
    {
      "cell_type": "markdown",
      "source": [
        "Annualized cumulative return for 60-40 Portfolio = 0.105\n",
        "\n"
      ],
      "metadata": {
        "id": "jnNSX-lxfW4m"
      }
    },
    {
      "cell_type": "code",
      "source": [
        "cumulative_ret2[-1]\n",
        "### ann_cumr_6040 = cumulative_ret2[-1]^(1/(2021-2002))-1\n",
        "### ann_cumr_6040= (6.643 ^(0.053))-1\n",
        "### ann_cumr_6040 = 0.105"
      ],
      "metadata": {
        "colab": {
          "base_uri": "https://localhost:8080/",
          "height": 0
        },
        "outputId": "9d0a4a43-ed09-49a6-cad7-0f4ff9ad42c3",
        "id": "egx2VMpPfW4n"
      },
      "execution_count": 63,
      "outputs": [
        {
          "output_type": "execute_result",
          "data": {
            "text/plain": [
              "6.617394845186646"
            ]
          },
          "metadata": {},
          "execution_count": 63
        }
      ]
    },
    {
      "cell_type": "markdown",
      "source": [
        "Annualized cumulative return for All Equity Portfolio = 0.110\n",
        "\n"
      ],
      "metadata": {
        "id": "ohQnrCTcf7ZB"
      }
    },
    {
      "cell_type": "code",
      "source": [
        "cumulative_ret3[-1]\n",
        "### ann_cumr_alleq = cumulative_ret2[-1]^(1/(2021-1993))-1\n",
        "### ann_cumr_alleq= (18.28 ^(0.036))-1\n",
        "### ann_cumr_alleq = 0.110"
      ],
      "metadata": {
        "colab": {
          "base_uri": "https://localhost:8080/",
          "height": 0
        },
        "outputId": "211c688f-3d2a-4896-c657-468e3d8560fc",
        "id": "t2PjJ2tQf7ZB"
      },
      "execution_count": 64,
      "outputs": [
        {
          "output_type": "execute_result",
          "data": {
            "text/plain": [
              "18.137539776942"
            ]
          },
          "metadata": {},
          "execution_count": 64
        }
      ]
    },
    {
      "cell_type": "code",
      "source": [
        "y= ff['RF'].mean()\n",
        "y"
      ],
      "metadata": {
        "colab": {
          "base_uri": "https://localhost:8080/",
          "height": 0
        },
        "id": "RH1xebgx4Q18",
        "outputId": "d19cc443-04df-4e69-db11-58fcbbe8b4e7"
      },
      "execution_count": 65,
      "outputs": [
        {
          "output_type": "execute_result",
          "data": {
            "text/plain": [
              "8.859110315383064e-05"
            ]
          },
          "metadata": {},
          "execution_count": 65
        }
      ]
    },
    {
      "cell_type": "markdown",
      "source": [
        "For All Weather Portfolio"
      ],
      "metadata": {
        "id": "HBwon14fk1mK"
      }
    },
    {
      "cell_type": "markdown",
      "source": [
        "D/E= (Annualized cumulative return for All Equity Portfolio- Annualized cumulative return for All Weather Portfolio)/ (Annualized cumulative return for All Weather Portfolio- RF)\n",
        "\n"
      ],
      "metadata": {
        "id": "pXLgmhYvjG_k"
      }
    },
    {
      "cell_type": "markdown",
      "source": [
        "D/E"
      ],
      "metadata": {
        "id": "lgLzgR07i6CZ"
      }
    },
    {
      "cell_type": "code",
      "source": [
        "D_E_allweather= (0.110-0.072)/(0.072-y)\n",
        "D_E_allweather"
      ],
      "metadata": {
        "colab": {
          "base_uri": "https://localhost:8080/",
          "height": 0
        },
        "id": "q0qXWWvAkB59",
        "outputId": "62983dcb-35f9-4634-dece-8c4c6f964802"
      },
      "execution_count": 66,
      "outputs": [
        {
          "output_type": "execute_result",
          "data": {
            "text/plain": [
              "0.5284279724585758"
            ]
          },
          "metadata": {},
          "execution_count": 66
        }
      ]
    },
    {
      "cell_type": "markdown",
      "source": [
        "For 60-40 Portfolio"
      ],
      "metadata": {
        "id": "SbSDxt5Yk6Ya"
      }
    },
    {
      "cell_type": "markdown",
      "source": [
        "D/E= (Annualized cumulative return for All Equity Portfolio- Annualized cumulative return for Balanced Portfolio)/ (Annualized cumulative return for Balanced Portfolio- RF)"
      ],
      "metadata": {
        "id": "bP6v0_ErkcTU"
      }
    },
    {
      "cell_type": "markdown",
      "source": [
        "D/E"
      ],
      "metadata": {
        "id": "uvyllBf6kkye"
      }
    },
    {
      "cell_type": "code",
      "source": [
        "D_E_6040= (0.110-0.105)/(0.105-y)\n",
        "D_E_6040"
      ],
      "metadata": {
        "colab": {
          "base_uri": "https://localhost:8080/",
          "height": 0
        },
        "id": "H8NBGEezkji6",
        "outputId": "5d0553e7-3d83-4252-f9b6-ccc8e32e4e12"
      },
      "execution_count": 67,
      "outputs": [
        {
          "output_type": "execute_result",
          "data": {
            "text/plain": [
              "0.04765925891736179"
            ]
          },
          "metadata": {},
          "execution_count": 67
        }
      ]
    },
    {
      "cell_type": "markdown",
      "source": [
        "From the above formula, it was evident that the all-weather portfolio has comparatively lower return so it would take a higher leverage to generate the same return.\n",
        "\n",
        "If an investor is young and has a tolerance for risk, then he/she should invest in 100% equity. Although, as age increases, investors try to lower their risks and then invest into more diversified portfolios, like an all weather portfolio. \n",
        "\n",
        "Additionally, if the investor wants to increase the portfolio risk for sometime (if he expects that the market returns will be excellent), then he/she should increase the leverage in the All Weather Portfolio instead of investing completely in equities.\n",
        "\n",
        "Sharpe ratio is another component to be looked at when discussing the levered positions in all weather. Investors prefer higher Sharpe ratio, i.e., more reward over a unit of risk. And from above analysis, it is clear that All Weather portfolio has the highest sharpe ratio among the three portfolios. Hence, we can use leverage to get better returns with higher risk. \n",
        "\n",
        "In conclusion, investing in All Weather portfolio remains a great option even after leverage is introduced. \n"
      ],
      "metadata": {
        "id": "wiYf8oGglIIe"
      }
    },
    {
      "cell_type": "markdown",
      "source": [
        "## **Mean Variance Efficient Frontier with Portfolio plots**"
      ],
      "metadata": {
        "id": "ZURB7yKS7iLS"
      }
    },
    {
      "cell_type": "code",
      "execution_count": 68,
      "metadata": {
        "id": "s-6T5eRAAf9t"
      },
      "outputs": [],
      "source": [
        "import scipy.optimize as sco"
      ]
    },
    {
      "cell_type": "code",
      "execution_count": 69,
      "metadata": {
        "id": "sTaIYVnIGLDy"
      },
      "outputs": [],
      "source": [
        "N_PORTFOLIOS = 10 ** 5"
      ]
    },
    {
      "cell_type": "code",
      "execution_count": 70,
      "metadata": {
        "id": "CMGI3UXmxYlj",
        "colab": {
          "base_uri": "https://localhost:8080/",
          "height": 0
        },
        "outputId": "c2997eb1-6eaf-41df-c4cc-a4d99794e7ec"
      },
      "outputs": [
        {
          "output_type": "stream",
          "name": "stdout",
          "text": [
            "[*********************100%***********************]  4 of 4 completed\n"
          ]
        }
      ],
      "source": [
        "new_port = yf.download(tickers='SPY TLT IEF GLD', session=session)"
      ]
    },
    {
      "cell_type": "code",
      "execution_count": 71,
      "metadata": {
        "id": "j74LXfz9zE9x"
      },
      "outputs": [],
      "source": [
        "new_port_r = new_port['Adj Close'].pct_change().dropna()"
      ]
    },
    {
      "cell_type": "code",
      "execution_count": 72,
      "metadata": {
        "colab": {
          "base_uri": "https://localhost:8080/",
          "height": 455
        },
        "id": "o1cN3voN91We",
        "outputId": "e1fe7c65-47ff-492f-d574-a492f7cf7546"
      },
      "outputs": [
        {
          "output_type": "execute_result",
          "data": {
            "text/html": [
              "<div>\n",
              "<style scoped>\n",
              "    .dataframe tbody tr th:only-of-type {\n",
              "        vertical-align: middle;\n",
              "    }\n",
              "\n",
              "    .dataframe tbody tr th {\n",
              "        vertical-align: top;\n",
              "    }\n",
              "\n",
              "    .dataframe thead th {\n",
              "        text-align: right;\n",
              "    }\n",
              "</style>\n",
              "<table border=\"1\" class=\"dataframe\">\n",
              "  <thead>\n",
              "    <tr style=\"text-align: right;\">\n",
              "      <th></th>\n",
              "      <th>Mkt-RF</th>\n",
              "      <th>SMB</th>\n",
              "      <th>HML</th>\n",
              "      <th>RF</th>\n",
              "      <th>GLD</th>\n",
              "      <th>IEF</th>\n",
              "      <th>SPY</th>\n",
              "      <th>TLT</th>\n",
              "    </tr>\n",
              "    <tr>\n",
              "      <th>Date</th>\n",
              "      <th></th>\n",
              "      <th></th>\n",
              "      <th></th>\n",
              "      <th></th>\n",
              "      <th></th>\n",
              "      <th></th>\n",
              "      <th></th>\n",
              "      <th></th>\n",
              "    </tr>\n",
              "  </thead>\n",
              "  <tbody>\n",
              "    <tr>\n",
              "      <th>2004-11-19</th>\n",
              "      <td>-0.0111</td>\n",
              "      <td>-0.0020</td>\n",
              "      <td>0.0076</td>\n",
              "      <td>0.0001</td>\n",
              "      <td>0.0090</td>\n",
              "      <td>-0.0055</td>\n",
              "      <td>-0.0111</td>\n",
              "      <td>-0.0080</td>\n",
              "    </tr>\n",
              "    <tr>\n",
              "      <th>2004-11-22</th>\n",
              "      <td>0.0060</td>\n",
              "      <td>0.0042</td>\n",
              "      <td>0.0043</td>\n",
              "      <td>0.0001</td>\n",
              "      <td>0.0038</td>\n",
              "      <td>0.0007</td>\n",
              "      <td>0.0048</td>\n",
              "      <td>0.0052</td>\n",
              "    </tr>\n",
              "    <tr>\n",
              "      <th>2004-11-23</th>\n",
              "      <td>0.0006</td>\n",
              "      <td>0.0028</td>\n",
              "      <td>0.0037</td>\n",
              "      <td>0.0001</td>\n",
              "      <td>-0.0044</td>\n",
              "      <td>-0.0009</td>\n",
              "      <td>0.0015</td>\n",
              "      <td>0.0012</td>\n",
              "    </tr>\n",
              "    <tr>\n",
              "      <th>2004-11-24</th>\n",
              "      <td>0.0047</td>\n",
              "      <td>0.0029</td>\n",
              "      <td>0.0012</td>\n",
              "      <td>0.0001</td>\n",
              "      <td>0.0067</td>\n",
              "      <td>0.0014</td>\n",
              "      <td>0.0024</td>\n",
              "      <td>0.0000</td>\n",
              "    </tr>\n",
              "    <tr>\n",
              "      <th>2004-11-26</th>\n",
              "      <td>0.0012</td>\n",
              "      <td>0.0016</td>\n",
              "      <td>0.0020</td>\n",
              "      <td>0.0001</td>\n",
              "      <td>0.0053</td>\n",
              "      <td>-0.0036</td>\n",
              "      <td>-0.0008</td>\n",
              "      <td>-0.0065</td>\n",
              "    </tr>\n",
              "    <tr>\n",
              "      <th>...</th>\n",
              "      <td>...</td>\n",
              "      <td>...</td>\n",
              "      <td>...</td>\n",
              "      <td>...</td>\n",
              "      <td>...</td>\n",
              "      <td>...</td>\n",
              "      <td>...</td>\n",
              "      <td>...</td>\n",
              "    </tr>\n",
              "    <tr>\n",
              "      <th>2021-10-25</th>\n",
              "      <td>0.0058</td>\n",
              "      <td>0.0049</td>\n",
              "      <td>-0.0016</td>\n",
              "      <td>0.0000</td>\n",
              "      <td>0.0069</td>\n",
              "      <td>0.0012</td>\n",
              "      <td>0.0054</td>\n",
              "      <td>-0.0015</td>\n",
              "    </tr>\n",
              "    <tr>\n",
              "      <th>2021-10-26</th>\n",
              "      <td>0.0004</td>\n",
              "      <td>-0.0071</td>\n",
              "      <td>-0.0032</td>\n",
              "      <td>0.0000</td>\n",
              "      <td>-0.0074</td>\n",
              "      <td>0.0012</td>\n",
              "      <td>0.0009</td>\n",
              "      <td>0.0083</td>\n",
              "    </tr>\n",
              "    <tr>\n",
              "      <th>2021-10-27</th>\n",
              "      <td>-0.0076</td>\n",
              "      <td>-0.0074</td>\n",
              "      <td>-0.0119</td>\n",
              "      <td>0.0000</td>\n",
              "      <td>0.0026</td>\n",
              "      <td>0.0056</td>\n",
              "      <td>-0.0044</td>\n",
              "      <td>0.0182</td>\n",
              "    </tr>\n",
              "    <tr>\n",
              "      <th>2021-10-28</th>\n",
              "      <td>0.0114</td>\n",
              "      <td>0.0087</td>\n",
              "      <td>-0.0047</td>\n",
              "      <td>0.0000</td>\n",
              "      <td>-0.0002</td>\n",
              "      <td>-0.0026</td>\n",
              "      <td>0.0096</td>\n",
              "      <td>-0.0034</td>\n",
              "    </tr>\n",
              "    <tr>\n",
              "      <th>2021-10-29</th>\n",
              "      <td>0.0022</td>\n",
              "      <td>0.0019</td>\n",
              "      <td>-0.0082</td>\n",
              "      <td>0.0000</td>\n",
              "      <td>-0.0085</td>\n",
              "      <td>0.0004</td>\n",
              "      <td>0.0020</td>\n",
              "      <td>0.0031</td>\n",
              "    </tr>\n",
              "  </tbody>\n",
              "</table>\n",
              "<p>4266 rows × 8 columns</p>\n",
              "</div>"
            ],
            "text/plain": [
              "            Mkt-RF     SMB     HML     RF     GLD     IEF     SPY     TLT\n",
              "Date                                                                     \n",
              "2004-11-19 -0.0111 -0.0020  0.0076 0.0001  0.0090 -0.0055 -0.0111 -0.0080\n",
              "2004-11-22  0.0060  0.0042  0.0043 0.0001  0.0038  0.0007  0.0048  0.0052\n",
              "2004-11-23  0.0006  0.0028  0.0037 0.0001 -0.0044 -0.0009  0.0015  0.0012\n",
              "2004-11-24  0.0047  0.0029  0.0012 0.0001  0.0067  0.0014  0.0024  0.0000\n",
              "2004-11-26  0.0012  0.0016  0.0020 0.0001  0.0053 -0.0036 -0.0008 -0.0065\n",
              "...            ...     ...     ...    ...     ...     ...     ...     ...\n",
              "2021-10-25  0.0058  0.0049 -0.0016 0.0000  0.0069  0.0012  0.0054 -0.0015\n",
              "2021-10-26  0.0004 -0.0071 -0.0032 0.0000 -0.0074  0.0012  0.0009  0.0083\n",
              "2021-10-27 -0.0076 -0.0074 -0.0119 0.0000  0.0026  0.0056 -0.0044  0.0182\n",
              "2021-10-28  0.0114  0.0087 -0.0047 0.0000 -0.0002 -0.0026  0.0096 -0.0034\n",
              "2021-10-29  0.0022  0.0019 -0.0082 0.0000 -0.0085  0.0004  0.0020  0.0031\n",
              "\n",
              "[4266 rows x 8 columns]"
            ]
          },
          "metadata": {},
          "execution_count": 72
        }
      ],
      "source": [
        "new_port_r=ff.merge(abcd, left_index=True, right_index=True)\n",
        "new_port_r"
      ]
    },
    {
      "cell_type": "code",
      "execution_count": 73,
      "metadata": {
        "id": "ggad6KDMBqU6"
      },
      "outputs": [],
      "source": [
        "new_port_r['GLD_RF'] = new_port_r['GLD'] - new_port_r['RF']\n",
        "new_port_r['SPY_RF'] = new_port_r['SPY'] - new_port_r['RF']\n",
        "new_port_r['TLT_RF'] = new_port_r['TLT'] - new_port_r['RF']\n",
        "new_port_r['IEF_RF'] = new_port_r['IEF'] - new_port_r['RF']"
      ]
    },
    {
      "cell_type": "code",
      "execution_count": 74,
      "metadata": {
        "colab": {
          "base_uri": "https://localhost:8080/",
          "height": 238
        },
        "id": "0wWKF7R4CAFI",
        "outputId": "ef643162-a997-498a-b3e1-95ee4b6c9883"
      },
      "outputs": [
        {
          "output_type": "execute_result",
          "data": {
            "text/html": [
              "<div>\n",
              "<style scoped>\n",
              "    .dataframe tbody tr th:only-of-type {\n",
              "        vertical-align: middle;\n",
              "    }\n",
              "\n",
              "    .dataframe tbody tr th {\n",
              "        vertical-align: top;\n",
              "    }\n",
              "\n",
              "    .dataframe thead th {\n",
              "        text-align: right;\n",
              "    }\n",
              "</style>\n",
              "<table border=\"1\" class=\"dataframe\">\n",
              "  <thead>\n",
              "    <tr style=\"text-align: right;\">\n",
              "      <th></th>\n",
              "      <th>GLD_RF</th>\n",
              "      <th>SPY_RF</th>\n",
              "      <th>TLT_RF</th>\n",
              "      <th>IEF_RF</th>\n",
              "    </tr>\n",
              "    <tr>\n",
              "      <th>Date</th>\n",
              "      <th></th>\n",
              "      <th></th>\n",
              "      <th></th>\n",
              "      <th></th>\n",
              "    </tr>\n",
              "  </thead>\n",
              "  <tbody>\n",
              "    <tr>\n",
              "      <th>2004-11-19</th>\n",
              "      <td>0.0089</td>\n",
              "      <td>-0.0112</td>\n",
              "      <td>-0.0081</td>\n",
              "      <td>-0.0055</td>\n",
              "    </tr>\n",
              "    <tr>\n",
              "      <th>2004-11-22</th>\n",
              "      <td>0.0037</td>\n",
              "      <td>0.0047</td>\n",
              "      <td>0.0051</td>\n",
              "      <td>0.0006</td>\n",
              "    </tr>\n",
              "    <tr>\n",
              "      <th>2004-11-23</th>\n",
              "      <td>-0.0045</td>\n",
              "      <td>0.0015</td>\n",
              "      <td>0.0012</td>\n",
              "      <td>-0.0010</td>\n",
              "    </tr>\n",
              "    <tr>\n",
              "      <th>2004-11-24</th>\n",
              "      <td>0.0066</td>\n",
              "      <td>0.0023</td>\n",
              "      <td>-0.0001</td>\n",
              "      <td>0.0013</td>\n",
              "    </tr>\n",
              "    <tr>\n",
              "      <th>2004-11-26</th>\n",
              "      <td>0.0053</td>\n",
              "      <td>-0.0008</td>\n",
              "      <td>-0.0066</td>\n",
              "      <td>-0.0037</td>\n",
              "    </tr>\n",
              "  </tbody>\n",
              "</table>\n",
              "</div>"
            ],
            "text/plain": [
              "            GLD_RF  SPY_RF  TLT_RF  IEF_RF\n",
              "Date                                      \n",
              "2004-11-19  0.0089 -0.0112 -0.0081 -0.0055\n",
              "2004-11-22  0.0037  0.0047  0.0051  0.0006\n",
              "2004-11-23 -0.0045  0.0015  0.0012 -0.0010\n",
              "2004-11-24  0.0066  0.0023 -0.0001  0.0013\n",
              "2004-11-26  0.0053 -0.0008 -0.0066 -0.0037"
            ]
          },
          "metadata": {},
          "execution_count": 74
        }
      ],
      "source": [
        "new_port_r1 = new_port_r[['GLD_RF','SPY_RF','TLT_RF','IEF_RF']]\n",
        "new_port_r1.head()"
      ]
    },
    {
      "cell_type": "code",
      "execution_count": 75,
      "metadata": {
        "id": "55anZ6Rl4eKI"
      },
      "outputs": [],
      "source": [
        "np.random.seed(42)\n",
        "weights = np.random.random(size=(N_PORTFOLIOS, new_port_r1.shape[1]))\n",
        "weights /= np.sum(weights, axis=1)[:, np.newaxis]\n",
        "weights = pd.DataFrame(data=weights, columns=new_port_r1.columns)"
      ]
    },
    {
      "cell_type": "code",
      "execution_count": 76,
      "metadata": {
        "id": "lrvNfibG4ofv"
      },
      "outputs": [],
      "source": [
        "avg_returns = 252 * new_port_r1.mean()\n",
        "cov_mat = 252 * new_port_r1.cov()"
      ]
    },
    {
      "cell_type": "code",
      "execution_count": 77,
      "metadata": {
        "id": "XXbku2PZ4zRM"
      },
      "outputs": [],
      "source": [
        "portf_rtns = weights.dot(avg_returns)\n",
        "portf_vol = np.sqrt((weights * cov_mat.dot(weights.T).T).sum(axis=1))\n",
        "portf_sharpe_ratio = portf_rtns / portf_vol"
      ]
    },
    {
      "cell_type": "code",
      "execution_count": 78,
      "metadata": {
        "id": "KhIuGmMt5gef"
      },
      "outputs": [],
      "source": [
        "portf_rtns_lew = np.dot(weights, avg_returns)\n",
        "portf_vol_lew = []\n",
        "for i in range(0, len(weights)):\n",
        "    portf_vol_lew.append(np.sqrt(np.dot(weights.iloc[i].T, np.dot(cov_mat, weights.iloc[i]))))\n",
        "portf_vol_lew = np.array(portf_vol_lew)\n",
        "portf_sharpe_ratio_lew = portf_rtns_lew / portf_vol_lew\n",
        "# # here is a slightly optimized version of Lewinson's approach\n",
        "# portf_rtns_lew = np.dot(weights, avg_returns)\n",
        "# portf_vol_lew = []\n",
        "# for i, w in weights.iterrows():\n",
        "# portf_vol_lew.append(np.dot(w, cov_mat.dot(w)))\n",
        "# portf_vol_lew = np.sqrt(np.array(portf_vol_lew))"
      ]
    },
    {
      "cell_type": "code",
      "execution_count": 79,
      "metadata": {
        "id": "rGUt1xhV52Os"
      },
      "outputs": [],
      "source": [
        "portf_results_df = pd.DataFrame(\n",
        "{\n",
        "'returns': portf_rtns,\n",
        "'volatility': portf_vol,\n",
        "'sharpe_ratio': portf_sharpe_ratio\n",
        "}\n",
        ")"
      ]
    },
    {
      "cell_type": "code",
      "execution_count": 80,
      "metadata": {
        "id": "CO09e7wm55z-"
      },
      "outputs": [],
      "source": [
        "portf_rtns_ef = portf_results_df.copy()\n",
        "portf_rtns_ef['returns_'] = np.round(portf_rtns_ef['returns'], 2)\n",
        "portf_rtns_ef.sort_values(by=['returns_', 'volatility'], inplace=True)\n",
        "portf_rtns_ef.drop_duplicates(subset=['returns_'], inplace=True)"
      ]
    },
    {
      "cell_type": "code",
      "execution_count": 81,
      "metadata": {
        "id": "a-cPsH7m6q7K",
        "colab": {
          "base_uri": "https://localhost:8080/",
          "height": 594
        },
        "outputId": "ad4ac3cf-71d1-4133-85a7-f2a1ea655c36"
      },
      "outputs": [
        {
          "output_type": "display_data",
          "data": {
            "image/png": "[encoded data removed]",
            "text/plain": [
              "<Figure size 900x600 with 2 Axes>"
            ]
          },
          "metadata": {
            "needs_background": "light"
          }
        }
      ],
      "source": [
        "MARKS = {\n",
        "    'SPY_RF': 'o', \n",
        "    'GLD_RF': 'X', \n",
        "    'IEF_RF': 'd', \n",
        "    'TLT_RF': '*',\n",
        "    'All weather': '1',\n",
        "    '60-40 port': '2',\n",
        "    'All equity': '3',\n",
        "}\n",
        "\n",
        "NAMES = {\n",
        "    'sharpe_ratio': 'Sharpe Ratio'\n",
        "}\n",
        "\n",
        "fig, ax = plt.subplots()\n",
        "portf_results_df.rename(columns=NAMES).plot(\n",
        "    kind='scatter',\n",
        "    marker='.',\n",
        "    alpha=0.1,\n",
        "    x='volatility',\n",
        "    y='returns', \n",
        "    c='Sharpe Ratio',\n",
        "    cmap='RdYlGn',\n",
        "    ax=ax\n",
        ")\n",
        "\n",
        "portf_rtns_ef.plot(\n",
        "    kind='line',\n",
        "    style='b--',\n",
        "    label='Efficient Frontier',\n",
        "    x='volatility',\n",
        "    y='returns_',\n",
        "    ax=ax\n",
        ")\n",
        "\n",
        "for s in new_port_r1.columns:\n",
        "    ax.scatter(\n",
        "        x=np.sqrt(cov_mat.loc[s, s]), \n",
        "        y=avg_returns.loc[s], \n",
        "        marker=MARKS[s], \n",
        "        label=s\n",
        "    )\n",
        "plt.scatter(0.065, 0.075, marker='1',\n",
        "            label='all weather')\n",
        "plt.scatter(0.105, 0.103, marker='2',\n",
        "            label='60-40')\n",
        "plt.scatter(0.187, 0.118, marker='3',\n",
        "            label='all equity')\n",
        "    \n",
        "plt.legend()\n",
        "\n",
        "\n",
        "ax.set(\n",
        "    xlabel='Volatility', \n",
        "    ylabel='Expected Returns', \n",
        "    title='Efficient Frontier from 100,000 Random Portfolios'\n",
        ")\n",
        "\n",
        "plt.show()"
      ]
    },
    {
      "cell_type": "markdown",
      "source": [
        "## **Conclusion**"
      ],
      "metadata": {
        "id": "JlCXzprWbbs2"
      }
    },
    {
      "cell_type": "markdown",
      "source": [
        "In conclusion, All Weather Portfolio fares better in every factor that was analyzed in this investigation. \n",
        "\n",
        "Starting with the risk contribution, all weather portfolio is a risk parity portfolio which is beneficial for the investor in all kinds of market conditions. \n",
        "\n",
        "Next, even though the weighted returns of All Weather are the lowest among the three, it has the highest Sharpe ratio, which is an important factor that an investor looks at, in the very beginning. \n",
        "\n",
        "Furthermore, it has low volatility and presents a conservative growth unlike an all equity index fund. Now this is not a bad thing since it protects the investor from the downside volatility. All Weather portfolio also has the least MDD (Maximum Draw Downs), while the all equity portfolio has the highest MDD.\n",
        "\n",
        "Lastly, with leverage, this portfolio can increase the return (by matching the return with an all equity portfolio).\n",
        "\n",
        "All in all, you should invest in an All Weather Portfolio.\n"
      ],
      "metadata": {
        "id": "USerFqv5ncPY"
      }
    }
  ]
}